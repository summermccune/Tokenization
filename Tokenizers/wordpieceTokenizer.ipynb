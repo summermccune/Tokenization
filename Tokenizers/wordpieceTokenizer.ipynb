{
  "nbformat": 4,
  "nbformat_minor": 0,
  "metadata": {
    "colab": {
      "provenance": [],
      "authorship_tag": "ABX9TyNk3FBssIrWyxAnTgrW45N9",
      "include_colab_link": true
    },
    "kernelspec": {
      "name": "python3",
      "display_name": "Python 3"
    },
    "language_info": {
      "name": "python"
    }
  },
  "cells": [
    {
      "cell_type": "markdown",
      "metadata": {
        "id": "view-in-github",
        "colab_type": "text"
      },
      "source": [
        "<a href=\"https://colab.research.google.com/github/summermccune/Tokenization-Testing-for-Malware-Data/blob/main/Tokenizers/wordpieceTokenizer.ipynb\" target=\"_parent\"><img src=\"https://colab.research.google.com/assets/colab-badge.svg\" alt=\"Open In Colab\"/></a>"
      ]
    },
    {
      "cell_type": "code",
      "execution_count": 1,
      "metadata": {
        "colab": {
          "base_uri": "https://localhost:8080/"
        },
        "id": "hSNKVo6MD4sZ",
        "outputId": "61b45f1f-8c92-489a-d640-e81c8add7e2d"
      },
      "outputs": [
        {
          "output_type": "stream",
          "name": "stdout",
          "text": [
            "Drive already mounted at /content/drive; to attempt to forcibly remount, call drive.mount(\"/content/drive\", force_remount=True).\n"
          ]
        }
      ],
      "source": [
        "from tokenizers.trainers import WordPieceTrainer\n",
        "from tokenizers import Tokenizer\n",
        "from tokenizers.models import WordPiece\n",
        "from tokenizers.pre_tokenizers import Whitespace\n",
        "from google.colab import drive\n",
        "drive.mount('/content/drive')"
      ]
    },
    {
      "cell_type": "markdown",
      "source": [
        "Not sure if this is useful, found it in higgingface article, worth changing maybe? - We could train our tokenizer right now, but it wouldn’t be optimal. Without a pre-tokenizer that will split our inputs into words, we might get tokens that overlap several words: for instance we could get an \"it is\" token since those two words often appear next to each other. Using a pre-tokenizer will ensure no token is bigger than a word returned by the pre-tokenizer. Here we want to train a subword BPE tokenizer, and we will use the easiest pre-tokenizer possible by splitting on whitespace"
      ],
      "metadata": {
        "id": "57ZB9QyUMlE0"
      }
    },
    {
      "cell_type": "code",
      "source": [
        "tokenizer = Tokenizer(WordPiece(unk_token=\"[UNK]\"))\n",
        "trainer = WordPieceTrainer(special_tokens=[\"[UNK]\", \"[PAD]\", \"[CLS]\"])"
      ],
      "metadata": {
        "id": "PUEa6PpTLYBh"
      },
      "execution_count": 2,
      "outputs": []
    },
    {
      "cell_type": "code",
      "source": [
        "tokenizer.pre_tokenizer = Whitespace() #maybe change this?"
      ],
      "metadata": {
        "id": "Z_d6HSxoMsm3"
      },
      "execution_count": 3,
      "outputs": []
    },
    {
      "cell_type": "code",
      "source": [
        "files = ['drive/MyDrive/Data/FakeRean.csv', 'drive/MyDrive/Data/OnLineGames.csv', 'drive/MyDrive/Data/Vobfus.csv', 'drive/MyDrive/Data/Winwebsec.csv']\n",
        "tokenizer.train(files, trainer)\n",
        "tokenizer.save('drive/MyDrive/Data/WordPieceTokenizer.json')"
      ],
      "metadata": {
        "id": "cL8iveAKMuCX"
      },
      "execution_count": null,
      "outputs": []
    }
  ]
}