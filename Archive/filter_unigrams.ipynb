{
  "nbformat": 4,
  "nbformat_minor": 0,
  "metadata": {
    "colab": {
      "provenance": [],
      "authorship_tag": "ABX9TyOMv8u8C6mItOZdYrYXr1F6",
      "include_colab_link": true
    },
    "kernelspec": {
      "name": "python3",
      "display_name": "Python 3"
    },
    "language_info": {
      "name": "python"
    }
  },
  "cells": [
    {
      "cell_type": "markdown",
      "metadata": {
        "id": "view-in-github",
        "colab_type": "text"
      },
      "source": [
        "<a href=\"https://colab.research.google.com/github/summermccune/Tokenization-Testing-for-Malware-Data/blob/main/Word2Vec/filter_unigrams.ipynb\" target=\"_parent\"><img src=\"https://colab.research.google.com/assets/colab-badge.svg\" alt=\"Open In Colab\"/></a>"
      ]
    },
    {
      "cell_type": "code",
      "source": [
        "from gensim.models import Word2Vec\n",
        "import pandas as pd\n",
        "import numpy as np\n",
        "import matplotlib.pyplot as plt\n",
        "from sklearn.model_selection import train_test_split\n",
        "from sklearn.metrics import confusion_matrix\n",
        "import glob\n",
        "import nltk\n",
        "from nltk.tokenize import word_tokenize\n",
        "from sklearn.svm import SVC\n",
        "from google.colab import drive\n",
        "drive.mount('/content/drive')\n",
        "import csv\n",
        "from collections import Counter\n",
        "import re"
      ],
      "metadata": {
        "colab": {
          "base_uri": "https://localhost:8080/"
        },
        "id": "4gYSnyKsDrZq",
        "outputId": "a5b3f843-bd31-451a-a517-1b0430d3883e"
      },
      "execution_count": 96,
      "outputs": [
        {
          "output_type": "stream",
          "name": "stdout",
          "text": [
            "Drive already mounted at /content/drive; to attempt to forcibly remount, call drive.mount(\"/content/drive\", force_remount=True).\n"
          ]
        }
      ]
    },
    {
      "cell_type": "code",
      "source": [
        "def count(df, c):\n",
        "  for row in df['Opcodes']:\n",
        "     data = row.split()\n",
        "     c.update(data)"
      ],
      "metadata": {
        "id": "3CIU2TbWKlM9"
      },
      "execution_count": 98,
      "outputs": []
    },
    {
      "cell_type": "code",
      "source": [
        "def removeNonVocab(vocab, series):\n",
        "  rows = []\n",
        "  vocab_str = '|'.join(vocab)\n",
        "  pattern = '\\\\b((?!\\\\b( |' + vocab_str + ')\\\\b).)*\\\\b'\n",
        "  for row in series:\n",
        "    row = re.sub(pattern, '', row)\n",
        "    row = re.sub(' +', ' ', row)\n",
        "    rows.append(row)\n",
        "  return rows"
      ],
      "metadata": {
        "id": "IjpKkjrGgDWQ"
      },
      "execution_count": 100,
      "outputs": []
    },
    {
      "cell_type": "code",
      "source": [
        "from os import remove\n",
        "#read in the data\n",
        "FakeRean = pd.read_csv('/content/drive/My Drive/Data/FakeRean.csv')\n",
        "OnLineGames = pd.read_csv('/content/drive/My Drive/Data/OnLineGames.csv')\n",
        "Vobfus = pd.read_csv('/content/drive/My Drive/Data/Vobfus.csv')\n",
        "Winwebsec = pd.read_csv('/content/drive/My Drive/Data/Winwebsec.csv')\n",
        "\n",
        "#splitting into test and train\n",
        "FakeRean_train, FakeRean_test = train_test_split(FakeRean, test_size=0.2, random_state = 7)\n",
        "OnLineGames_train, OnLineGames_test = train_test_split(OnLineGames, test_size=0.2, random_state = 7)\n",
        "Vobfus_train, Vobfus_test = train_test_split(Vobfus, test_size=0.2, random_state = 7)\n",
        "Winwebsec_train, Winwebsec_test = train_test_split(Winwebsec, test_size=0.2, random_state = 7)\n",
        "\n",
        "#converting opcodes to unigram list\n",
        "unigramList = []\n",
        "countTotal = Counter()\n",
        "count(FakeRean_train, countTotal)\n",
        "count(OnLineGames_train,countTotal)\n",
        "count(Vobfus_train,countTotal)\n",
        "count(Winwebsec_train,countTotal)\n",
        "\n",
        "print(countTotal)\n",
        "\n",
        "total_count = countTotal.most_common(31)\n",
        "countList = [x[0] for x in total_count]\n",
        "print(countList)\n",
        "\n",
        "#create empty df\n",
        "df = pd.DataFrame(columns = ['Opcodes', 'MalwareType'])\n",
        "\n",
        "FakeRean_rows = removeNonVocab(countList, FakeRean_train['Opcodes'])\n",
        "for row in FakeRean_rows:\n",
        "  df.loc[len(df)] = [row, 0]\n",
        "\n",
        "OnLineGames_rows = removeNonVocab(countList, OnLineGames_train['Opcodes'])\n",
        "for row in OnLineGames_rows:\n",
        "  df.loc[len(df)] = [row, 1]\n",
        "\n",
        "Vobfus_rows = removeNonVocab(countList, Vobfus_train['Opcodes'])\n",
        "for row in Vobfus_rows:\n",
        "  df.loc[len(df)] = [row, 2]\n",
        "\n",
        "Winwebsec_rows = removeNonVocab(countList, Winwebsec_train['Opcodes'])\n",
        "for row in Winwebsec_rows:\n",
        "  df.loc[len(df)] = [row, 3]\n",
        "\n",
        "df.head()\n",
        "\n",
        "#make df to csv\n",
        "df.to_csv('cleaned.csv')\n",
        "\n",
        "\n",
        "#turn count into csv\n",
        "total_count_df = pd.DataFrame(total_count)\n",
        "total_count_df.to_csv('total_count.csv')"
      ],
      "metadata": {
        "colab": {
          "base_uri": "https://localhost:8080/"
        },
        "id": "-wcpa3IHEzmZ",
        "outputId": "c6c43b04-3df6-457b-9dd5-04d357869d8c"
      },
      "execution_count": 101,
      "outputs": [
        {
          "output_type": "stream",
          "name": "stdout",
          "text": [
            "Counter({'add': 23087854, 'mov': 20429050, 'push': 15445942, 'pop': 7519450, 'inc': 5810925, 'call': 5007533, 'xchg': 4964945, 'or': 4788317, 'dec': 4772277, 'cmp': 4261939, 'xor': 4151652, 'sub': 4086212, 'and': 4018088, 'adc': 3994182, 'lea': 3790175, 'sbb': 3762405, 'test': 2621933, 'out': 2252309, 'in': 2205548, 'jmp': 2043840, 'movl': 1864469, 'int3': 1574178, 'ret': 1425302, 'je': 1399473, 'imul': 1377532, 'nop': 1209677, 'lods': 1102820, 'stos': 1097239, 'scas': 1071095, 'lret': 1068851, 'jne': 1060458, 'insb': 912964, 'cmc': 891876, 'jb': 834975, 'std': 825663, 'popa': 774089, 'ljmp': 770770, 'jae': 768285, 'pushl': 753628, 'jo': 751014, 'lcall': 733824, 'outsl': 714094, 'cld': 700213, 'outsb': 698974, 'jbe': 698971, 'js': 681023, 'hlt': 651916, 'pusha': 648785, 'arpl': 641284, 'jno': 627153, 'sti': 626837, 'jge': 621735, 'ja': 621596, 'leave': 619184, 'lock': 612243, 'jl': 612178, 'clc': 602528, 'insl': 599616, 'incl': 592828, 'movsl': 586793, 'loopne': 583840, 'das': 583442, 'jg': 581655, 'aaa': 572868, 'aas': 569916, 'jns': 568578, 'jle': 565021, 'enter': 563868, 'sahf': 563056, 'daa': 558929, 'movsb': 552882, 'xlat': 549935, 'jp': 549724, 'aam': 548241, 'pushf': 546337, 'cltd': 545838, 'cmpsb': 545393, 'int': 544455, 'jnp': 543216, 'cli': 542686, 'stc': 540271, 'cwtl': 539885, 'into': 539792, 'iret': 537815, 'repz': 537048, 'cmpsl': 536785, 'icebp': 534704, 'loope': 531136, 'loop': 530760, 'jecxz': 526154, 'gs': 521635, 'aad': 519782, 'lahf': 519552, 'popf': 519362, 'fwait': 515304, 'repnz': 507163, 'bound': 461751, 'fs': 453655, 'les': 421235, 'ss': 420988, 'lds': 400764, 'addr16': 386918, 'es': 380200, 'cs': 359905, 'ds': 350780, 'cmpl': 344007, 'data16': 306453, 'shl': 272233, 'decl': 260710, 'addb': 251378, 'andl': 226505, 'rolb': 223677, 'movb': 217474, 'roll': 197433, 'shr': 160522, 'incb': 160100, 'rorb': 157257, 'orb': 157196, 'rclb': 156829, 'addl': 154446, 'rcrb': 153121, 'shrb': 152811, 'shlb': 152421, 'sarb': 151351, 'rorl': 151277, 'shll': 150199, 'shrl': 149017, 'rcll': 148561, 'sarl': 147465, 'rcrl': 147358, 'cmpb': 145110, 'sar': 138923, 'rol': 133141, 'fstpl': 129731, 'decb': 126959, 'orl': 125683, 'andb': 121987, 'ror': 115889, 'testb': 112923, 'adcb': 110305, 'subl': 108816, 'rcl': 107577, 'sbbb': 103636, 'subb': 102955, 'xorb': 101593, 'adcl': 99273, 'xorl': 99060, 'movw': 98741, 'rcr': 97837, 'sbbl': 97617, 'fldl': 94374, 'fildl': 77704, 'popl': 75923, 'not': 75770, 'neg': 75341, 'flds': 73788, 'testl': 71593, 'fadds': 71009, 'faddl': 68741, 'fiaddl': 65964, 'fild': 65609, 'fiadd': 62936, 'cmpw': 62525, 'fstps': 62342, 'rep': 61491, 'fnstsw': 61177, 'fnclex': 57287, 'sldt': 57223, 'negb': 56959, 'fmuls': 55394, 'imull': 55155, 'idiv': 55142, 'divb': 54905, 'fdivr': 54861, 'negl': 54379, 'divl': 54013, 'fdivl': 53832, 'imulb': 53708, 'notb': 53207, 'notl': 53100, 'fmull': 53053, 'fcompl': 52893, 'mulb': 52584, 'movswl': 52501, 'fsubs': 52407, 'fcoms': 52378, 'fcomps': 52163, 'idivb': 52142, 'idivl': 52074, 'mull': 51681, 'fldt': 51356, 'fdivs': 51334, 'fsubrs': 51266, 'div': 51126, 'fistpl': 51067, 'fstpt': 51055, 'fistl': 50817, 'fisttpl': 50676, 'fsubl': 50435, 'fldcw': 50254, 'fimul': 50149, 'fldenv': 50137, 'frstor': 50136, 'fcoml': 50113, 'fisttpll': 50034, 'fsubrl': 49967, 'fidivl': 49927, 'ficomp': 49889, 'fidiv': 49691, 'fdivrl': 49647, 'fbld': 49646, 'fidivr': 49642, 'fdivrs': 49618, 'fbstp': 49611, 'fisub': 49609, 'fimull': 49540, 'fist': 49462, 'fnstcw': 49446, 'fstl': 49409, 'fnstenv': 49338, 'fisubl': 49337, 'fisubr': 49288, 'fisubrl': 49267, 'fistpll': 49192, 'fisttp': 49155, 'fsts': 49096, 'fildll': 49052, 'fistp': 48925, 'fidivrl': 48847, 'ficom': 48794, 'fnsave': 48535, 'ficompl': 48505, 'ficoml': 48481, 'bnd': 45624, 'fsubr': 36784, 'mul': 35706, 'fadd': 33358, 'fmul': 33002, 'fdiv': 32831, 'fsub': 32400, 'movzbl': 25364, 'movzwl': 19873, 'fcomp': 19553, 'fstp': 19525, 'fcmovu': 18555, 'fcmovnu': 18292, 'faddp': 18180, 'fcom': 18048, 'fdivrp': 17910, 'fxch': 17304, 'fcmovnb': 17000, 'fucomi': 16902, 'fld': 16795, 'bswap': 16596, 'fucomip': 16568, 'fcomi': 16493, 'fcmovne': 16428, 'fsubp': 16316, 'fucomp': 16267, 'fmulp': 16232, 'ffreep': 16125, 'fdivp': 16084, 'fsubrp': 16076, 'ffree': 16058, 'fcomip': 15944, 'fcmovbe': 15939, 'fcmovb': 15846, 'fcmovnbe': 15808, 'fst': 15782, 'fcmove': 15690, 'fucom': 15478, 'pushw': 12976, 'setne': 12431, 'movsbl': 12163, 'andw': 9489, 'nopl': 9412, 'sete': 8599, 'fldz': 7488, 'movaps': 7225, 'xrelease': 6959, 'popw': 6392, 'movups': 5787, 'movntps': 5738, 'outsw': 4942, 'movq': 4839, 'cmpxchg': 4836, 'xbegin': 4686, 'invd': 4516, 'shrd': 4418, 'xabort': 4359, 'shld': 4342, 'xadd': 4320, 'movd': 4233, 'orw': 4093, 'setg': 4057, 'retw': 3921, 'fcos': 3890, 'lretw': 3866, 'psllq': 3761, 'movlps': 3604, 'bt': 3563, 'paddb': 3460, 'xacquire': 3363, 'pmaddwd': 3322, 'movhps': 3306, 'str': 3165, 'fld1': 2968, 'setl': 2964, 'movzbw': 2953, 'unpcklps': 2932, 'lar': 2826, 'ud2': 2824, 'clts': 2791, 'je,pt': 2776, 'pmulhuw': 2772, 'sysret': 2771, 'cmovno': 2768, 'movsw': 2763, 'femms': 2749, 'pmuludq': 2723, 'wrmsr': 2682, 'cwtd': 2678, 'je,pn': 2671, 'cmovb': 2653, 'pause': 2608, 'setge': 2596, 'jmpw': 2588, 'cmovs': 2545, 'pushaw': 2506, 'iretw': 2487, 'bts': 2479, 'unpckhps': 2473, 'fchs': 2450, 'fsin': 2446, 'lsl': 2426, 'cmove': 2425, 'insw': 2403, 'cmovo': 2392, 'cmovl': 2377, 'por': 2377, 'punpcklbw': 2377, 'sysenter': 2374, 'psubb': 2371, 'wbinvd': 2370, 'seto': 2364, 'verw': 2362, 'setle': 2353, 'jb,pn': 2346, 'callw': 2339, 'addps': 2335, 'pcmpgtd': 2316, 'popaw': 2304, 'cmovae': 2298, 'pshufw': 2291, 'mulps': 2288, 'punpckhbw': 2284, 'bsf': 2283, 'subps': 2281, 'btr': 2271, 'syscall': 2261, 'lcallw': 2260, 'pcmpeqb': 2251, 'cpuid': 2248, 'fincstp': 2229, 'fneni(8087': 2217, 'fucompp': 2199, 'cbtw': 2190, 'paddd': 2186, 'btc': 2185, 'paddw': 2179, 'setb': 2179, 'comiss': 2176, 'ja,pt': 2171, 'pcmpgtb': 2165, 'psllw': 2164, 'jne,pt': 2163, 'cmova': 2159, 'f2xm1': 2154, 'psrlw': 2140, 'fcompp': 2137, 'pcmpeqd': 2136, 'fprem': 2132, 'pslld': 2129, 'cmovne': 2129, 'pavgb': 2127, 'pxor': 2121, 'bsr': 2114, 'fxam': 2113, 'punpcklwd': 2112, 'pinsrw': 2108, 'shufps': 2108, 'xorps': 2107, 'js,pt': 2106, 'jo,pt': 2105, 'ljmpw': 2102, 'psubw': 2098, 'cvttps2pi': 2098, 'paddsb': 2093, 'punpckhdq': 2083, 'fscale': 2083, 'fabs': 2083, 'fprem1': 2080, 'jae,pn': 2077, 'loopne,pn': 2075, 'prefetch': 2073, 'psrad': 2073, 'fnop': 2073, 'cmovge': 2068, 'jbe,pn': 2064, 'fptan': 2062, 'pand': 2062, 'frndint': 2061, 'jno,pn': 2058, 'punpckldq': 2057, 'rsqrtps': 2055, 'sysexit': 2051, 'orps': 2050, 'fsqrt': 2048, 'psrlq': 2047, 'jo,pn': 2045, 'rcpps': 2043, 'getsec': 2043, 'cmovle': 2041, 'packssdw': 2038, 'paddq': 2035, 'cmovg': 2032, 'jecxz,pn': 2032, 'packuswb': 2030, 'jae,pt': 2029, 'fldlg2': 2027, 'psubsb': 2026, 'setnp': 2025, 'cmovp': 2023, 'divps': 2022, 'psraw': 2022, 'emms': 2021, 'js,pn': 2020, 'vmwrite': 2018, 'setns': 2018, 'fninit': 2017, 'movntq': 2009, 'cvtdq2ps': 2008, 'fldl2t': 2007, 'sets': 2007, 'maxps': 2006, 'minps': 2002, 'jne,pn': 2002, 'jbe,pt': 2001, 'sqrtps': 2001, 'pminub': 1996, 'fsincos': 1995, 'cvtps2pd': 1994, 'setp': 1993, 'cmovns': 1992, 'jge,pt': 1989, 'cmovbe': 1988, 'loopne,pt': 1986, 'jno,pt': 1986, 'pmullw': 1985, 'rdpmc': 1985, 'pcmpgtw': 1984, 'psrld': 1983, 'fyl2x': 1983, 'psubusb': 1982, 'fldln2': 1981, 'jnp,pn': 1980, 'psubq': 1980, 'ucomiss': 1979, 'ftst': 1977, 'pushfw': 1975, 'jg,pt': 1974, 'cmpsw': 1974, 'pminsw': 1973, 'setbe': 1973, 'rdmsr': 1973, 'packsswb': 1972, 'paddsw': 1970, 'andnps': 1969, 'psadbw': 1967, 'setno': 1966, 'fxtract': 1966, 'fnsetpm(287': 1966, 'vmread': 1964, 'psubd': 1963, 'jle,pt': 1958, 'andps': 1958, 'fldpi': 1954, 'pmaxsw': 1950, 'jns,pn': 1946, 'psubusw': 1946, 'paddusw': 1944, 'ja,pn': 1944, 'loope,pn': 1942, 'pandn': 1940, 'jg,pn': 1937, 'cvtpi2ps': 1937, 'pavgw': 1936, 'fyl2xp1': 1934, 'psubsw': 1933, 'jnp,pt': 1933, 'fdecstp': 1933, 'popfw': 1932, 'jl,pn': 1931, 'frstpm(287': 1929, 'loop,pt': 1929, 'jns,pt': 1928, 'loop,pn': 1928, 'fldl2e': 1928, 'enterw': 1928, 'cmovnp': 1924, 'jb,pt': 1922, 'pcmpeqw': 1918, 'jl,pt': 1913, 'jge,pn': 1910, 'pmaxub': 1907, 'leavew': 1907, 'maskmovq': 1905, 'jp,pt': 1904, 'jecxz,pt': 1903, 'rdtsc': 1901, 'jp,pn': 1895, 'loopew': 1895, 'loopw': 1895, 'paddusb': 1890, 'loope,pt': 1885, 'punpckhwd': 1882, 'fndisi(8087': 1882, 'incw': 1880, 'pextrw': 1876, 'seta': 1872, 'cvtps2pi': 1871, 'pmulhw': 1867, 'fpatan': 1866, 'jle,pn': 1862, 'loopnew': 1861, 'ud1': 1859, 'setae': 1858, 'cmpps': 1858, 'jcxz': 1849, 'bndstx': 1836, 'rsm': 1815, 'lldt': 1723, 'bndldx': 1681, 'lfs': 1569, 'lss': 1508, 'ltr': 1482, 'lgs': 1464, 'verr': 1421, 'movnti': 1382, 'decw': 938, 'sgdtl': 883, 'nop/reserved': 765, 'movdqa': 756, 'vmovaps': 733, 'testw': 731, 'rolw': 700, '.byte': 697, 'movsbw': 696, 'fstsw': 613, 'rcrw': 582, 'sarw': 568, 'prefetchnta': 566, 'movhlps': 556, 'shlw': 548, 'lgdtl': 544, 'addw': 541, 'rclw': 526, 'movlhps': 520, 'shrw': 510, 'rorw': 509, 'prefetchw': 488, 'smsw': 476, 'vunpckhps': 455, 'pmovmskb': 451, 'movmskps': 445, 'vshufps': 444, 'lmsw': 433, 'adcw': 390, 'sbbw': 388, 'vxorps': 387, 'vandnps': 386, 'invlpg': 380, 'sidtl': 379, 'vorps': 377, 'subw': 373, 'xorw': 348, 'vunpcklps': 347, 'vandps': 339, 'lidtl': 322, 'fstcw': 312, 'xsha1': 311, 'vmovntps': 302, 'montmul': 273, 'prefetcht2': 266, 'vmovq': 265, 'vmovsd': 264, 'vmovupd': 260, 'fnstenvs': 260, 'vmovdqa': 253, 'prefetchwt1': 253, 'vmovdqu': 252, 'xcrypt-cbc': 248, 'xstore-rng': 236, 'xsha256': 234, 'vmovups': 234, 'xcrypt-ofb': 233, 'xcrypt-ecb': 229, 'vmovss': 227, 'vrsqrtps': 224, 'xcrypt-ctr': 223, 'vmovd': 223, 'vmovapd': 218, 'prefetcht1': 214, 'imulw': 214, 'cmpxchg8b': 213, 'xcrypt-cfb': 213, 'phaddsw': 206, 'frstors': 201, 'prefetcht0': 199, 'vmovhps': 198, 'xrstors': 198, 'idivw': 197, 'ldmxcsr': 193, 'fxsave': 192, 'stmxcsr': 190, 'vmovlps': 189, 'vmptrst': 189, 'mulw': 188, 'xsaves': 183, 'btl': 183, 'clflush': 182, 'vpmulhuw': 180, 'xsavec': 180, 'xsaveopt': 179, 'fstenv': 176, 'btcl': 175, 'fldenvs': 174, 'divw': 174, 'btsl': 171, 'notw': 170, 'vmptrld': 169, 'xrstor': 169, 'fxrstor': 167, 'fnsaves': 167, 'negw': 167, 'btrl': 165, 'vcvtsd2si': 162, 'vsqrtsd': 162, 'fsave': 161, 'vpaddw': 159, 'vpmaxsw': 153, 'vpavgb': 153, 'vmulps': 152, 'vmovsldup': 152, 'vucomisd': 147, 'vpsubw': 147, 'vpunpckhbw': 146, 'vshufpd': 146, 'vpmaddwd': 146, 'vdivps': 146, 'pfmul': 145, 'vcomiss': 144, 'vpsllq': 144, 'vpsraw': 144, 'vpsrld': 143, 'vpunpckldq': 143, 'vpsubd': 143, 'vcvtdq2ps': 142, 'vpsubq': 141, 'vminss': 139, 'vpminub': 138, 'vcvtps2dq': 138, 'vpunpckhwd': 138, 'vpcmpeqb': 138, 'vmovddup': 137, 'vpandn': 137, 'vpshufd': 137, 'vandpd': 136, 'xsave': 136, 'vmulss': 136, 'vpshufhw': 135, 'vpaddb': 135, 'vpsubusb': 135, 'vpxor': 135, 'vsqrtps': 134, 'vpsllw': 133, 'vsubpd': 133, 'vpunpcklqdq': 132, 'vucomiss': 132, 'vsqrtpd': 132, 'vpsubsb': 130, 'vaddpd': 129, 'vsubps': 129, 'vpaddusb': 129, 'vpaddq': 129, 'vcvttss2si': 128, 'vminps': 128, 'vpsubsw': 127, 'vpsrlw': 127, 'vhaddps': 127, 'vrsqrtss': 127, 'vmulsd': 127, 'vpaddsw': 126, 'vmaxpd': 126, 'vmaxps': 126, 'vsubss': 125, 'vminsd': 125, 'vpmullw': 125, 'vpackssdw': 124, 'kmovb': 124, 'vcomisd': 124, 'vmaxsd': 123, 'vpavgw': 123, 'vpsubb': 123, 'vpor': 123, 'vaddss': 122, 'vpacksswb': 122, 'vmovshdup': 122, 'vpunpckhdq': 122, 'vsqrtss': 121, 'vunpcklpd': 121, 'vdivsd': 120, 'vpaddd': 120, 'vorpd': 120, 'vandnpd': 120, 'vpackuswb': 118, 'vpcmpeqw': 117, 'vpaddusw': 117, 'vpsrad': 117, 'vcvtss2si': 117, 'vrcpps': 117, 'vpaddsb': 116, 'vminpd': 116, 'vaddps': 115, 'vpslld': 115, 'vpand': 115, 'kmovw': 115, 'vunpckhpd': 114, 'vaddsd': 114, 'vmovhpd': 114, 'vpmuludq': 114, 'vpmaxub': 113, 'vcmppd': 113, 'vcvtps2pd': 113, 'vxorpd': 113, 'vaddsubps': 113, 'vhsubps': 113, 'vpunpcklwd': 112, 'vcvttps2dq': 112, 'vpsadbw': 111, 'vaddsubpd': 111, 'vmaxss': 111, 'vdivss': 110, 'vrcpss': 110, 'vcmpsd': 109, 'vcvttsd2si': 108, 'vhsubpd': 108, 'vpunpckhqdq': 108, 'vpmulhw': 108, 'vmovntdq': 107, 'vmulpd': 106, 'vpsrlq': 106, 'vpcmpgtb': 105, 'vhaddpd': 105, 'cmpnleps': 105, 'vpshuflw': 104, 'vpminsw': 104, 'vcvtdq2pd': 104, 'vpcmpgtd': 103, 'vcmpps': 103, 'vcvtsd2ss': 102, 'vcvtss2sd': 101, 'vpunpcklbw': 99, 'vmovlpd': 98, 'vpcmpeqd': 98, 'vpcmpgtw': 95, 'vmovntpd': 95, 'vdivpd': 93, 'vsubsd': 93, 'vpsubusw': 92, 'vcmpss': 88, 'movapd': 88, 'vcvtpd2ps': 84, 'vlddqu': 82, 'vcvtsi2sdl': 78, 'rdseed': 75, 'vprotq': 70, 'vpmovzxwq': 67, 'vpextrw': 66, 'vprotb': 65, 'vcvttpd2dq': 65, 'vcvtsi2ssl': 64, 'pi2fd': 62, 'vmovmskps': 61, 'vprotd': 61, 'rdrand': 60, 'movlpd': 60, 'pshufb': 60, 'vzeroupper': 59, 'vpmacssdqh': 58, 'vpinsrw': 55, 'vcvtpd2dq': 53, 'addsd': 52, 'vprotw': 50, 'kxnorw': 50, 'vpcmov': 50, 'cmpeqps': 50, 'vpshufb': 49, 'pi2fw': 49, 'vmaskmovdqu': 49, 'vzeroall': 48, 'nopw': 47, 'mulpd': 44, 'pfadd': 44, 'vpmadcswd': 41, 'vpperm': 40, 'movzww': 39, 'vcvtsi2ss': 38, 'mulsd': 38, 'vmovmskpd': 37, 'vphaddwq': 37, 'subsd': 37, 'vphsubbw': 36, 'vpmacssdd': 36, 'pfsub': 36, 'vpshaw': 35, 'vphaddwd': 34, 'vphadduwd': 34, 'vphsubwd': 34, 'vpmacswd': 33, 'vpmacssdql': 33, 'vfrczss': 33, 'vphaddubd': 33, 'vcvtsi2sd': 32, 'vpshaq': 32, 'vpmacsswd': 32, 'vphsubdq': 32, 'pfcmpgt': 32, 'pswapd': 32, 'pf2id': 31, 'kmovd': 31, 'vcvtpd2dqy': 31, 'vpmovmskb': 31, 'vpshld': 31, 'vpmadcsswd': 31, 'vfrczpd': 31, 'vphadduwq': 30, 'vpmacsdql': 29, 'vcvtpd2psx': 29, 'vpmacsdqh': 29, 'vmovhlps': 29, 'vfrczsd': 28, 'vfrczps': 28, 'vpshlb': 28, 'pfnacc': 28, 'vpshlq': 27, 'vcvttpd2dqy': 27, 'pfsubr': 27, 'vphadddq': 26, 'movsd': 25, 'vstmxcsr': 25, 'vpshlw': 25, 'vpmacssww': 25, 'vcvttpd2dqx': 25, 'vphaddbw': 25, 'vphaddbd': 24, 'vcvtpd2psy': 24, 'vpshad': 23, 'vpmacsww': 23, 'bextr': 23, 'addpd': 23, 'vphaddudq': 23, 'wrpkru': 23, 'vpshab': 23, 'stac': 22, 'kortestb': 22, 'vpcomb': 21, 'vphaddubq': 21, 'vpmacsdd': 20, 'vphaddbq': 20, 'mwait': 20, 'kandnw': 19, 'kxorw': 19, 'vmfunc': 19, 'ktestw': 18, 'vmrun': 18, 'vmlaunch': 18, 'encls': 18, 'stgi': 18, 'movdqu': 18, 'vldmxcsr': 18, 'kandw': 18, 'unpckhpd': 18, 'pfrcp': 17, 'vmovlhps': 17, 'andpd': 17, 'monitor': 17, 'kaddw': 17, 'vcvtpd2dqx': 16, 'skinit': 16, 'subss': 16, 'vmxoff': 16, 'kunpckbw': 16, 'cvttpd2dq': 16, 'invlpga': 16, 'fclex': 16, 'clgi': 16, 'insertq': 15, 'vpcomq': 15, 'xsetbv': 15, 'pfmax': 15, 'kaddb': 15, 'kxnorb': 15, 'unpcklpd': 15, 'monitorx': 15, 'vmcall': 14, 'loopnew,pt': 14, 'movq2dq': 14, 'vphaddubw': 14, 'movhpd': 14, 'korb': 14, 'pfrcpit2': 14, 'movss': 14, 'pf2iw': 14, 'pshufhw': 14, 'vpcomd': 13, 'pfpnacc': 13, 'pfrsqit1': 13, 'loopw,pn': 13, 'jcxz,pt': 13, 'pmulhrw': 13, 'movsww': 13, 'movbe': 13, 'kandb': 12, 'vmsave': 12, 'mwaitx': 12, 'sha1rnds4': 12, 'korw': 12, 'kortestw': 12, 'maxsd': 12, 'loopew,pn': 12, 'pfcmpge': 12, 'vpermq': 12, 'cvtss2sd': 12, 'cmpneqps': 12, 'jcxz,pn': 12, 'vmresume': 12, 'vpcomuw': 12, 'orpd': 12, 'addss': 11, 'loopw,pt': 11, 'ucomisd': 11, 'movupd': 11, 'cvttsd2si': 11, 'xtest': 11, 'phsubw': 11, 'xorpd': 11, 'pfacc': 11, 'haddps': 11, 'xgetbv': 11, 'popcnt': 11, 'xbeginw': 11, 'subpd': 11, 'pmaddubsw': 11, 'vpcomud': 11, 'kandnb': 10, 'swapgs': 10, 'vpcomw': 10, 'punpckhqdq': 10, 'vpcomub': 10, 'vcmpeqsd': 10, 'enclu': 10, 'pabsb': 10, 'kunpckwd': 10, 'cvtsi2sdl': 10, 'mfence': 10, 'punpcklqdq': 10, 'pfcmpeq': 10, 'psignd': 10, 'cvtpd2dq': 10, 'bndmov': 10, 'hsubps': 10, 'clzero': 10, 'vmmcall': 10, 'vmload': 10, 'clac': 10, 'pfmin': 10, 'vpmulhrsw': 10, 'vfmaddsub132pd': 9, 'sha1msg1': 9, 'vfnmsub231ps': 9, 'phsubsw': 9, 'cvttss2si': 9, 'minss': 9, 'knotb': 9, 'hsubpd': 9, 'rcpss': 9, 'v4fmaddss': 9, 'knotw': 9, 'haddpd': 9, 'rdpkru': 9, 'vpbroadcastq': 8, 'vpinsrb': 8, 'vpbroadcastd': 8, 'pmulhrsw': 8, 'cmpordps': 8, 'sha256rnds2': 8, 'vfmaddps': 8, 'fsetpm(287': 8, 'vfmsubsd': 8, 'mulss': 8, 'vbroadcastsd': 8, 'sfence': 8, 'cvtsd2si': 8, 'loopew,pt': 8, 'vpmaxsb': 7, 'finit': 7, 'cmpleps': 7, 'pshuflw': 7, 'movshdup': 7, 'vfmadd213ss': 7, 'andnpd': 7, 'vfnmadd231pd': 7, 'sysretw': 7, 'movddup': 7, 'addsubpd': 7, 'movntdq': 7, 'vcvtps2ph': 7, 'vpermpd': 7, 'ktestb': 7, 'maxss': 7, 'vpmaddubsw': 7, 'cmpss': 7, 'cvtss2si': 7, 'vfnmadd132sd': 7, 'pfrcpit1': 7, 'vfmsubadd231ps': 7, 'vcmpeqpd': 7, 'rsqrtss': 7, 'cvttpd2pi': 7, 'bndcl': 7, 'feni(8087': 7, 'phsubd': 7, 'vpmovzxbq': 7, 'cvtsi2ssl': 7, 'xend': 7, 'vpcomuq': 7, 'rdtscp': 7, 'vpmovsxbw': 6, 'phaddd': 6, 'vcvtsd2usi': 6, 'palignr': 6, 'sqrtsd': 6, 'cvtpd2pi': 6, 'vpmovsxbq': 6, 'sha1msg2': 6, 'vfmaddsub132ps': 6, 'cmpltps': 6, 'vpmovzxwd': 6, 'vpsignb': 6, 'loopnew,pn': 6, 'pabsw': 6, 'vpsignw': 6, 'pabsd': 6, 'vpalignr': 6, 'minpd': 6, 'extrq': 6, 'maskmovdqu': 6, 'vrcp28sd': 6, 'vgatherdpd': 6, 'vfnmsub213sd': 6, 'cmpunordps': 6, 'minsd': 6, 'vpmovzxbd': 5, 'vmovntdqa': 5, 'vfmsub231ps': 5, 'vmovdqu16': 5, 'lddqu': 5, 'vpminsd': 5, 'vpmovsxwq': 5, 'tzcnt': 5, 'fdisi(8087': 5, 'cmpnltps': 5, 't1mskc': 5, 'shufpd': 5, 'rorx': 5, 'pfrsqrt': 5, 'vpmaxud': 5, 'vpminud': 5, 'cvtpi2pd': 5, 'vfmaddpd': 5, 'vpermt2ps': 5, 'pshufd': 5, 'movntss': 5, 'vpsrlvd': 5, 'vfmsub231sd': 5, 'vpextrd': 5, 'vcvtss2usi': 5, 'cvtsd2ss': 5, 'vpabsq': 5, 'vfmaddsub231ps': 5, 'vpslldq': 5, 'vpmuldq': 5, 'vblendmps': 5, 'vpmaxuw': 5, 'kxorb': 5, 'vpermilps': 5, 'vpconflictd': 5, 'blcmsk': 5, 'blsic': 5, 'movntpd': 5, 'cmpsd': 5, 'llwpcb': 5, 'divsd': 5, 'vextractps': 5, 'vfnmadd231ss': 4, 'vfmadd231pd': 4, 'vpmovm2d': 4, 'vpminuw': 4, 'vrangeps': 4, 'blcic': 4, 'vfmsub132ss': 4, 'vfnmadd213sd': 4, 'v4fnmaddss': 4, 'vgatherqpd': 4, 'divpd': 4, 'vfmaddsub231pd': 4, 'comisd': 4, 'vfmadd132sd': 4, 'psignw': 4, 'vp4dpwssd': 4, 'vfmsubadd231pd': 4, 'psignb': 4, 'bndcu': 4, 'vextractf64x4': 4, 'vpcmpeqq': 4, 'vfmadd213ps': 4, 'vfnmsubpd': 4, 'vshuff64x2': 4, 'movntsd': 4, 'vpcmpq': 4, 'lfence': 4, 'vfmsub213ps': 4, 'vfmadd213pd': 4, 'vcvtusi2ss': 4, 'vfnmadd213ps': 4, 'divss': 4, 'vpmaxsd': 4, 'cvtdq2pd': 4, 'blci': 4, 'lzcnt': 4, 'vpermil2ps': 4, 'v4fnmaddps': 4, 'blcs': 4, 'vcmpeqss': 4, 'vphaddw': 4, 'vpabsd': 4, 'maxpd': 4, 'vpblendmw': 4, 'vfnmadd132ss': 4, 'cmpeqsd': 4, 'vcmpeqps': 4, 'vpermi2d': 4, 'vfmaddsub213pd': 4, 'vpmovwb': 3, 'vfnmsub132ss': 3, 'vfmadd231ss': 3, 'vfnmadd213ss': 3, 'vfnmadd132ps': 3, 'vfnmsubps': 3, 'vcvtqq2pd': 3, 'vinsertps': 3, 'vphaddd': 3, 'kmovq': 3, 'lwpins': 3, 'vfmsub132pd': 3, 'vbroadcastf32x4': 3, 'vpexpandq': 3, 'vmaskmovpd': 3, 'vpgatherdd': 3, 'vbroadcastf128': 3, 'vmovdqu64': 3, 'vbroadcasti64x2': 3, 'vfmadd132pd': 3, 'vcmpord_spd': 3, 'vpsrldq': 3, 'vfnmsub132ps': 3, 'vpmovq2m': 3, 'vfnmsubsd': 3, 'vpsllvw': 3, 'vpgatherdq': 3, 'sha256msg2': 3, 'vfmsubaddps': 3, 'vgatherqps': 3, 'vptest': 3, 'vfnmsub213ps': 3, 'addsubps': 3, 'vfmsubss': 3, 'vpcmpub': 3, 'vfnmaddss': 3, 'vfmsubaddpd': 3, 'vroundps': 3, 'vtestpd': 3, 'vpmovusqb': 3, 'vpscatterdq': 3, 'vcmpge_oqss': 3, 'vcmpunordss': 3, 'vpermilpd': 3, 'sha1nexte': 3, 'cvttps2dq': 3, 'cvtps2dq': 3, 'vcvttss2usi': 3, 'vcvttps2qq': 3, 'vinserti64x2': 3, 'vrcp14ps': 3, 'vpcmpistri': 3, 'bndmk': 3, 'vpmaskmovd': 3, 'cvtpd2ps': 3, 'bndcn': 3, 'vcvttpd2uqq': 3, 'vpsignd': 3, 'vporq': 3, 'vpinsrq': 3, 'sha256msg1': 3, 'vptestnmq': 3, 'cvtsi2sd': 3, 'cmppd': 3, 'vpmovqb': 3, 'vpmovsxbd': 3, 'vfmaddsd': 3, 'valignq': 2, 'vfmadd132ss': 2, 'vcmpngtps': 2, 'vp4dpwssds': 2, 'vpscatterdd': 2, 'vrsqrt14sd': 2, 'vfmsubadd132pd': 2, 'vpinsrd': 2, 'vtestps': 2, 'vscalefpd': 2, 'slwpcb': 2, 'vdppd': 2, 'vcmpngeps': 2, 'vroundss': 2, 'vmovdqu8': 2, 'vpermd': 2, 'vrcp28ps': 2, 'vrndscaless': 2, 'vfnmaddpd': 2, 'vshuff32x4': 2, 'vcvttsd2usi': 2, 'vpmadd52huq': 2, 'shlx': 2, 'vfnmsub132pd': 2, 'vpsllvd': 2, 'vpblendw': 2, 'vbroadcasti32x8': 2, 'cvtsi2ss': 2, 'vcmpordpd': 2, 'vcmpngt_uqpd': 2, 'vfmsub231ss': 2, 'blsfill': 2, 'vreducesd': 2, 'phaddw': 2, 'vpblendmb': 2, 'tzmsk': 2, 'vfnmsub231ss': 2, 'vpmovsqd': 2, 'vbroadcasti64x4': 2, 'vprolvd': 2, 'vgetexpps': 2, 'vpternlogd': 2, 'vfnmsub231sd': 2, 'vpclmulqdq': 2, 'vinsertf128': 2, 'vfnmadd213pd': 2, 'vgetmantsd': 2, 'vpermps': 2, 'vfmsub213sd': 2, 'vcvtusi2sd': 2, 'vcmple_oqpd': 2, 'vpermt2d': 2, 'vbroadcastf64x2': 2, 'vpsrlvq': 2, 'vpsravd': 2, 'vpabsb': 2, 'vgetexpss': 2, 'vpminsq': 2, 'vcompresspd': 2, 'vextracti32x4': 2, 'vmclear': 2, 'sqrtpd': 2, 'vpmovusdw': 2, 'vcmpltps': 2, 'vpcmpb': 2, 'vinserti128': 2, 'vprorvq': 2, 'vphsubw': 2, 'vpminsb': 2, 'vrndscalesd': 2, 'vplzcntq': 2, 'vcmplt_oqsd': 2, 'vcmpgt_oqsd': 2, 'vfmsub231pd': 2, 'vroundpd': 2, 'vpsrlvw': 2, 'vpmovzxdq': 2, 'vpmovd2m': 2, 'vpscatterqq': 2, 'vpermi2q': 2, 'vcmpgesd': 2, 'pext': 2, 'vinserti32x8': 2, 'vfmsub132sd': 2, 'vpmovsxdq': 2, 'vfmsub213pd': 2, 'vfmsubpd': 2, 'blcfill': 2, 'vpermt2pd': 2, 'vpbroadcastmb2q': 2, 'vrangepd': 2, 'vpopcntq': 2, 'vfmsubadd132ps': 2, 'vpermt2w': 2, 'vbroadcastss': 2, 'vpmovuswb': 2, 'vcvttpd2qq': 2, 'vrsqrt14ss': 2, 'vpbroadcastb': 2, 'vfnmsub231pd': 2, 'vdpps': 2, 'vfmadd231sd': 2, 'vmpsadbw': 2, 'vpcmpgtq': 2, 'vbroadcasti32x2': 2, 'vscatterdpd': 2, 'vpmulld': 2, 'v4fmaddps': 2, 'vmovdqa32': 2, 'vfpclassps': 2, 'vfmsub213ss': 2, 'pavgusb': 2, 'vfpclasssd': 2, 'vpsllvq': 2, 'vfnmaddsd': 2, 'vpmovsdw': 2, 'vpextrb': 2, 'vcvttps2udq': 2, 'vcmpfalse_ospd': 1, 'vbroadcastf32x8': 1, 'valignd': 1, 'vcmplt_oqpd': 1, 'vscalefss': 1, 'btsw': 1, 'vpermi2pd': 1, 'vpmovsqb': 1, 'vreducepd': 1, 'vcmpunord_spd': 1, 'vpmovm2w': 1, 'vfnmsub132sd': 1, 'vrsqrt14ps': 1, 'vrangess': 1, 'vptestnmd': 1, 'vpextrq': 1, 'vcmpnge_uqsd': 1, 'vpbroadcastw': 1, 'vcvtpd2qq': 1, 'vbroadcastf64x4': 1, 'vpternlogq': 1, 'vscatterdps': 1, 'sqrtss': 1, 'vcmpneqpd': 1, 'vfnmadd231ps': 1, 'vcvtuqq2psx': 1, 'vcmple_oqsd': 1, 'vpmadd52luq': 1, 'vgatherpf1dps': 1, 'lgdtw': 1, 'vpgatherqq': 1, 'vpord': 1, 'vrsqrt28sd': 1, 'shrx': 1, 'vcmpneq_ossd': 1, 'vpermt2b': 1, 'vcmptruepd': 1, 'vextracti32x8': 1, 'pdep': 1, 'vmaskmovps': 1, 'vcvttps2uqq': 1, 'vgatherdps': 1, 'fstenvs': 1, 'vgatherpf0dpd': 1, 'vpandnq': 1, 'vcmpnlt_uqps': 1, 'vfnmadd132pd': 1, 'vpmultishiftqb': 1, 'vmovdqa64': 1, 'kshiftrw': 1, 'vcmpnltsd': 1, 'vfnmsub213ss': 1, 'vpandnd': 1, 'vpmovsxwd': 1, 'vrsqrt28pd': 1, 'cmpnless': 1, 'vpexpandd': 1, 'vfmsubps': 1, 'vcvtudq2ps': 1, 'vfpclasspd': 1, 'vfmadd213sd': 1, 'vcvtps2qq': 1, 'vpabsw': 1, 'vpermt2q': 1, 'vptestmb': 1, 'vinsertf32x8': 1, 'lwpval': 1, 'vcmpneq_ussd': 1, 'vpmovm2b': 1, 'vcmpfalse_osss': 1, 'adox': 1, 'movsldup': 1, 'vpminuq': 1, 'clwb': 1, 'vpermi2w': 1, 'ktestd': 1, 'sarx': 1, 'vpmovdb': 1, 'vpmovqd': 1, 'vpsravw': 1, 'andn': 1, 'vcvtpd2uqq': 1, 'vphsubsw': 1, 'sgdtw': 1, 'vpmaxsq': 1, 'vpmovsdb': 1, 'vfpclasspdz': 1, 'vcmpeq_osps': 1, 'vpsraq': 1, 'vscatterpf1dps': 1, 'vrangesd': 1, 'vcmpless': 1, 'vpandd': 1, 'vfnmadd231sd': 1, 'kshiftlb': 1, 'vextractf32x8': 1, 'vshufi64x2': 1, 'vpmovdw': 1, 'vcmpngepd': 1, 'vfmaddsub213ps': 1, 'vpackusdw': 1, 'vcmpunord_sss': 1, 'vcmpgeps': 1, 'vmovdqu32': 1, 'vrcp28pd': 1, 'vptestmq': 1, 'vcmpleps': 1, 'mulx': 1, 'vpbroadcastmw2d': 1, 'vfmsubadd213pd': 1, 'vcmpeq_uqps': 1, 'vrndscalepd': 1, 'vpcmpw': 1, 'vpmaskmovq': 1, 'bzhi': 1, 'vaesimc': 1, 'vgatherpf1dpd': 1, 'vcmpneq_oqpd': 1, 'vcmpneq_oqss': 1, 'vrsqrt14pd': 1, 'vptestmw': 1, 'vdbpsadbw': 1, 'fsaves': 1, 'kortestd': 1, 'vcmptruesd': 1, 'vexp2ps': 1, 'vcvtps2uqq': 1, 'vgetmantss': 1, 'vfmsubadd213ps': 1, 'vcmpfalsepd': 1, 'vfnmsub213pd': 1, 'vpcmpestrm': 1, 'vfixupimmsd': 1, 'vcmpngt_uqps': 1, 'vpblendvb': 1, 'vcmpeq_uqpd': 1, 'vinserti64x4': 1, 'vfmaddsubpd': 1, 'vcmpeq_ossd': 1, 'vprorvd': 1, 'movdq2q': 1, 'vpermb': 1, 'vpmovqw': 1, 'vpblendd': 1, 'vfixupimmss': 1, 'vfnmaddps': 1, 'vfnmsubss': 1, 'vcvttpd2udq': 1, 'vinsertf32x4': 1, 'movmskpd': 1, 'vblendps': 1, 'vpscatterqd': 1})\n",
            "['add', 'mov', 'push', 'pop', 'inc', 'call', 'xchg', 'or', 'dec', 'cmp', 'xor', 'sub', 'and', 'adc', 'lea', 'sbb', 'test', 'out', 'in', 'jmp', 'movl', 'int3', 'ret', 'je', 'imul', 'nop', 'lods', 'stos', 'scas', 'lret', 'jne']\n"
          ]
        }
      ]
    }
  ]
}
