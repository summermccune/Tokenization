{
  "nbformat": 4,
  "nbformat_minor": 0,
  "metadata": {
    "colab": {
      "provenance": [],
      "authorship_tag": "ABX9TyNDc8/a28uV+t1WzwEOADc3",
      "include_colab_link": true
    },
    "kernelspec": {
      "name": "python3",
      "display_name": "Python 3"
    },
    "language_info": {
      "name": "python"
    }
  },
  "cells": [
    {
      "cell_type": "markdown",
      "metadata": {
        "id": "view-in-github",
        "colab_type": "text"
      },
      "source": [
        "<a href=\"https://colab.research.google.com/github/summermccune/Tokenization-Testing-for-Malware-Data/blob/main/Tokenizers/UNIGRAMS_ngrams.ipynb\" target=\"_parent\"><img src=\"https://colab.research.google.com/assets/colab-badge.svg\" alt=\"Open In Colab\"/></a>"
      ]
    },
    {
      "cell_type": "code",
      "execution_count": null,
      "metadata": {
        "id": "iKPIEN_GXZ8S"
      },
      "outputs": [],
      "source": [
        "!pip install \"scipy==1.11.0\"#change this line?\n",
        "!pip install gensim\n",
        "!pip install pandas\n",
        "!pip install numpy\n",
        "!pip install matplotlib\n",
        "!pip install scikit-learn\n",
        "!pip install glob\n",
        "!pip install nltk\n",
        "!pip install csv\n",
        "!pip install collections\n",
        "!pip install re\n",
        "!pip install gc\n",
        "from gensim.models import Word2Vec\n",
        "import pandas as pd\n",
        "import numpy as np\n",
        "import matplotlib.pyplot as plt\n",
        "import glob\n",
        "import nltk\n",
        "from nltk.tokenize import word_tokenize\n",
        "# from google.colab import drive\n",
        "# drive.mount('/content/drive')\n",
        "import csv\n",
        "from collections import Counter\n",
        "import re\n",
        "import gc"
      ]
    },
    {
      "cell_type": "code",
      "execution_count": null,
      "metadata": {
        "id": "3CIU2TbWKlM9"
      },
      "outputs": [],
      "source": [
        "def count(df, c):\n",
        "  for row in df['Opcodes']:\n",
        "     data = row.split()\n",
        "     c.update(data)"
      ]
    },
    {
      "cell_type": "code",
      "execution_count": null,
      "metadata": {
        "id": "IjpKkjrGgDWQ"
      },
      "outputs": [],
      "source": [
        "def removeNonVocab(vocab, series):\n",
        "  rows = []\n",
        "  vocab_str = '|'.join(vocab)\n",
        "  pattern = '\\\\b((?!\\\\b( |' + vocab_str + ')\\\\b).)*\\\\b'\n",
        "  for row in series:\n",
        "    row = re.sub(pattern, '', row)\n",
        "    row = re.sub(' +', ' ', row)\n",
        "    rows.append(row)\n",
        "  return rows"
      ]
    },
    {
      "cell_type": "code",
      "source": [
        "#read in the data\n",
        "FakeRean = pd.read_csv('FakeRean.csv')\n",
        "OnLineGames = pd.read_csv('OnLineGames.csv')\n",
        "Vobfus = pd.read_csv('Vobfus.csv')\n",
        "Winwebsec = pd.read_csv('Winwebsec.csv')\n",
        "\n",
        "FakeRean_df = pd.DataFrame(FakeRean)\n",
        "OnLineGames_df = pd.DataFrame(OnLineGames)\n",
        "Vobfus_df = pd.DataFrame(Vobfus)\n",
        "Winwebsec_df = pd.DataFrame(Winwebsec)\n",
        "\n",
        "#drop first column\n",
        "FakeRean_df = FakeRean_df.iloc[:, 1:]\n",
        "OnLineGames_df = OnLineGames_df.iloc[:, 1:]\n",
        "Vobfus_df = Vobfus_df.iloc[:, 1:]\n",
        "Winwebsec_df = Winwebsec_df.iloc[:, 1:]"
      ],
      "metadata": {
        "id": "NXB9CVMNYSHg"
      },
      "execution_count": null,
      "outputs": []
    },
    {
      "cell_type": "code",
      "source": [
        "#counting opcodes for data cleaning\n",
        "countTotal = Counter()\n",
        "count(FakeRean_df, countTotal)\n",
        "count(OnLineGames_df,countTotal)\n",
        "count(Vobfus_df,countTotal)\n",
        "count(Winwebsec_df,countTotal)"
      ],
      "metadata": {
        "id": "KlAi81zmYk0g"
      },
      "execution_count": null,
      "outputs": []
    },
    {
      "cell_type": "code",
      "source": [
        "#list for most common opcodes\n",
        "total_count = countTotal.most_common(31)\n",
        "countList = [x[0] for x in total_count]\n",
        "print(countList)"
      ],
      "metadata": {
        "colab": {
          "base_uri": "https://localhost:8080/"
        },
        "id": "h57NfxNTZqh1",
        "outputId": "f03e3f02-a38c-4147-a7d2-c8371e2e3e77"
      },
      "execution_count": null,
      "outputs": [
        {
          "output_type": "stream",
          "name": "stdout",
          "text": [
            "['add', 'mov', 'push', 'pop', 'inc', 'xchg', 'call', 'or', 'dec', 'cmp', 'xor', 'sub', 'and', 'adc', 'sbb', 'lea', 'test', 'out', 'in', 'jmp', 'movl', 'int3', 'ret', 'imul', 'je', 'nop', 'lods', 'stos', 'scas', 'lret', 'jne']\n"
          ]
        }
      ]
    },
    {
      "cell_type": "code",
      "source": [
        "#adding cleaned data to new dataframe\n",
        "rows = []\n",
        "\n",
        "#0 for FakeRean\n",
        "FakeRean_rows = removeNonVocab(countList, FakeRean_df['Opcodes'])\n",
        "for row in FakeRean_rows:\n",
        "  row = row.split()\n",
        "  rows.append((tuple(row), 0))\n",
        "\n",
        "#1 for OnLineGames\n",
        "OnLineGames_rows = removeNonVocab(countList, OnLineGames_df['Opcodes'])\n",
        "for row in OnLineGames_rows:\n",
        "  row = row.split()\n",
        "  rows.append((tuple(row), 1))\n",
        "\n",
        "#2 for Vobfus\n",
        "Vobfus_rows = removeNonVocab(countList, Vobfus_df['Opcodes'])\n",
        "for row in Vobfus_rows:\n",
        "  row = row.split()\n",
        "  rows.append((tuple(row), 2))\n",
        "\n",
        "#3 for Winwebsec\n",
        "Winwebsec_rows = removeNonVocab(countList, Winwebsec_df['Opcodes'])\n",
        "for row in Winwebsec_rows:\n",
        "  row = row.split()\n",
        "  rows.append((tuple(row), 3))\n"
      ],
      "metadata": {
        "id": "kntLSqR5ZXzV"
      },
      "execution_count": null,
      "outputs": []
    },
    {
      "cell_type": "code",
      "source": [
        "#make csv of most common opcodes and their count\n",
        "df = pd.DataFrame(total_count, columns=['Opcodes', 'Count'])\n",
        "df.to_csv('MostCommonOpcodes.csv', index=False)"
      ],
      "metadata": {
        "id": "-YdW16TEfJkU"
      },
      "execution_count": null,
      "outputs": []
    },
    {
      "cell_type": "code",
      "source": [
        "#turn rows tuple into df\n",
        "df = pd.DataFrame(rows, columns=['Opcodes', 'MalwareType'])\n",
        "\n",
        "#cleaned rows as csv\n",
        "df.to_csv('UnigramFilteredOpcodes.csv', index=False)"
      ],
      "metadata": {
        "id": "TV761pBDcGRw"
      },
      "execution_count": null,
      "outputs": []
    }
  ]
}
