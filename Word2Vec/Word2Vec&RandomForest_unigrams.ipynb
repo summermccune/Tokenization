{
  "nbformat": 4,
  "nbformat_minor": 0,
  "metadata": {
    "colab": {
      "provenance": [],
      "authorship_tag": "ABX9TyPDaRaHR3hbG490sS7c9RzH",
      "include_colab_link": true
    },
    "kernelspec": {
      "name": "python3",
      "display_name": "Python 3"
    },
    "language_info": {
      "name": "python"
    }
  },
  "cells": [
    {
      "cell_type": "markdown",
      "metadata": {
        "id": "view-in-github",
        "colab_type": "text"
      },
      "source": [
        "<a href=\"https://colab.research.google.com/github/summermccune/Tokenization/blob/main/Word2Vec/Word2Vec%26RandomForest_unigrams.ipynb\" target=\"_parent\"><img src=\"https://colab.research.google.com/assets/colab-badge.svg\" alt=\"Open In Colab\"/></a>"
      ]
    },
    {
      "cell_type": "code",
      "execution_count": 5,
      "metadata": {
        "id": "ehaoj8RkS8XF"
      },
      "outputs": [],
      "source": [
        "from gensim.models import Word2Vec\n",
        "import pandas as pd\n",
        "import numpy as np\n",
        "import matplotlib.pyplot as plt\n",
        "from sklearn.model_selection import train_test_split\n",
        "from sklearn.metrics import confusion_matrix\n",
        "import glob\n",
        "from nltk.util import ngrams\n",
        "from sklearn.ensemble import RandomForestClassifier"
      ]
    },
    {
      "cell_type": "code",
      "source": [
        "from google.colab import drive\n",
        "drive.mount('/content/drive')"
      ],
      "metadata": {
        "colab": {
          "base_uri": "https://localhost:8080/"
        },
        "id": "C5sfpudS05f-",
        "outputId": "981d895a-5b32-4262-ba0a-61923a2b4620"
      },
      "execution_count": 6,
      "outputs": [
        {
          "output_type": "stream",
          "name": "stdout",
          "text": [
            "Drive already mounted at /content/drive; to attempt to forcibly remount, call drive.mount(\"/content/drive\", force_remount=True).\n"
          ]
        }
      ]
    },
    {
      "cell_type": "code",
      "source": [
        "def read_files(malwarefolder, malwareType):\n",
        "  for sample in malwarefolder:\n",
        "    with open(sample, 'r') as f:\n",
        "      data = f.read().split()\n",
        "    #append sample to opcodes list in df\n",
        "    df.loc[len(df)] = [data, malwareType]"
      ],
      "metadata": {
        "id": "m4VYX1UeL6qb"
      },
      "execution_count": 7,
      "outputs": []
    },
    {
      "cell_type": "code",
      "source": [
        "#creating dataframe for samples and label\n",
        "df = pd.DataFrame(columns = ['opcodes','label'])\n",
        "\n",
        "\n",
        "#specify paths for each malware\n",
        "winwebsec = glob.glob(\"/content/drive/MyDrive/Data/malware2/winwebsec/*.txt\")\n",
        "zbot = glob.glob(\"/content/drive/MyDrive/Data/malware2/zbot/*.txt\")\n",
        "zeroaccess = glob.glob(\"/content/drive/MyDrive/Data/malware2/zeroaccess/*.txt\")\n",
        "\n",
        "#read files\n",
        "read_files(winwebsec, 0)\n",
        "read_files(zbot, 1)\n",
        "read_files(zeroaccess, 2)\n",
        "\n",
        "print(df.shape)\n",
        "df.head()\n"
      ],
      "metadata": {
        "id": "7QNq5mWV7KsM"
      },
      "execution_count": null,
      "outputs": []
    },
    {
      "cell_type": "code",
      "source": [
        "#word2vec\n",
        "model = Word2Vec(df['opcodes'], min_count=1, vector_size=100)"
      ],
      "metadata": {
        "id": "3ObhJWWV42tN"
      },
      "execution_count": null,
      "outputs": []
    },
    {
      "cell_type": "code",
      "source": [
        "#Random Forest\n",
        "clf = RandomForestClassifier()\n",
        "X = df['opcodes']\n",
        "y = df['label']\n",
        "X_train, X_test, y_train, y_test = train_test_split(X, y, test_size=0.1, random_state=42)\n",
        "clf.fit(X_train, y_train)\n",
        "y_pred = clf.predict(X_test)\n",
        "\n",
        "#accuracy\n",
        "print(\"Accuracy:\", np.mean(y_pred == y_test))\n",
        "#confusion matrix\n",
        "cm = confusion_matrix(y_test, y_pred)\n",
        "print(cm)"
      ],
      "metadata": {
        "id": "tfTdEOcQxI9W"
      },
      "execution_count": null,
      "outputs": []
    }
  ]
}