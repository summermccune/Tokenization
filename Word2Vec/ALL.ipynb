{
  "nbformat": 4,
  "nbformat_minor": 0,
  "metadata": {
    "colab": {
      "provenance": [],
      "authorship_tag": "ABX9TyN9v9myZ2Nygr84hUNpKsMX",
      "include_colab_link": true
    },
    "kernelspec": {
      "name": "python3",
      "display_name": "Python 3"
    },
    "language_info": {
      "name": "python"
    }
  },
  "cells": [
    {
      "cell_type": "markdown",
      "metadata": {
        "id": "view-in-github",
        "colab_type": "text"
      },
      "source": [
        "<a href=\"https://colab.research.google.com/github/summermccune/Tokenization-Testing-for-Malware-Data/blob/main/Word2Vec/ALL.ipynb\" target=\"_parent\"><img src=\"https://colab.research.google.com/assets/colab-badge.svg\" alt=\"Open In Colab\"/></a>"
      ]
    },
    {
      "cell_type": "markdown",
      "source": [
        "## Importing Libraries"
      ],
      "metadata": {
        "id": "CafkSzFJ3TwN"
      }
    },
    {
      "cell_type": "code",
      "execution_count": 1,
      "metadata": {
        "colab": {
          "base_uri": "https://localhost:8080/"
        },
        "id": "HKSVQfkN24Xa",
        "outputId": "60b69876-e83f-46dc-9d3d-904089c9a06c"
      },
      "outputs": [
        {
          "output_type": "stream",
          "name": "stderr",
          "text": [
            "[nltk_data] Downloading package punkt to /root/nltk_data...\n",
            "[nltk_data]   Unzipping tokenizers/punkt.zip.\n"
          ]
        },
        {
          "output_type": "stream",
          "name": "stdout",
          "text": [
            "Mounted at /content/drive\n"
          ]
        }
      ],
      "source": [
        "from gensim.models import Word2Vec\n",
        "import pandas as pd\n",
        "import numpy as np\n",
        "import matplotlib.pyplot as plt\n",
        "from sklearn.model_selection import train_test_split\n",
        "from sklearn.metrics import confusion_matrix\n",
        "import glob\n",
        "import nltk\n",
        "from nltk.tokenize import word_tokenize\n",
        "from nltk.util import trigrams\n",
        "from nltk.util import bigrams\n",
        "nltk.download('punkt')\n",
        "from sklearn.svm import SVC\n",
        "from google.colab import drive\n",
        "drive.mount('/content/drive')"
      ]
    },
    {
      "cell_type": "markdown",
      "source": [
        "## Tokenization Functions"
      ],
      "metadata": {
        "id": "63vhquK24Hic"
      }
    },
    {
      "cell_type": "code",
      "source": [
        "def get_unigrams(text):"
      ],
      "metadata": {
        "id": "nu0XckdX3ebY"
      },
      "execution_count": null,
      "outputs": []
    },
    {
      "cell_type": "code",
      "source": [
        "def get_bigrams(text):"
      ],
      "metadata": {
        "id": "a-zLzkFI3i1R"
      },
      "execution_count": null,
      "outputs": []
    },
    {
      "cell_type": "code",
      "source": [
        "def get_trigrams(text):"
      ],
      "metadata": {
        "id": "89hsWj8P3lIO"
      },
      "execution_count": null,
      "outputs": []
    },
    {
      "cell_type": "code",
      "source": [
        "def get_bigramstrigrams(text):"
      ],
      "metadata": {
        "id": "jlqX7K2V3oBG"
      },
      "execution_count": null,
      "outputs": []
    },
    {
      "cell_type": "code",
      "source": [
        "def wordpiece(text):"
      ],
      "metadata": {
        "id": "y_aXb2zd3tiY"
      },
      "execution_count": null,
      "outputs": []
    },
    {
      "cell_type": "markdown",
      "source": [
        "## Classification Functions"
      ],
      "metadata": {
        "id": "cbOCLbUf4Ktm"
      }
    },
    {
      "cell_type": "code",
      "source": [
        "def SVM():"
      ],
      "metadata": {
        "id": "6ilEuPXZ3xha"
      },
      "execution_count": null,
      "outputs": []
    },
    {
      "cell_type": "code",
      "source": [
        "def RandomForest():"
      ],
      "metadata": {
        "id": "zO8kOj8x4B6X"
      },
      "execution_count": null,
      "outputs": []
    },
    {
      "cell_type": "markdown",
      "source": [
        "## Main"
      ],
      "metadata": {
        "id": "vV_SG9iQ4TMh"
      }
    },
    {
      "cell_type": "code",
      "source": [
        "#read in the data\n",
        "FakeRean = pd.read_csv('/content/drive/My Drive/Data/FakeRean.csv')\n",
        "OnLineGames = pd.read_csv('/content/drive/My Drive/Data/OnLineGames.csv')\n",
        "Vobfus = pd.read_csv('/content/drive/My Drive/Data/Vobfus.csv')\n",
        "Winwebsec = pd.read_csv('/content/drive/My Drive/Data/Winwebsec.csv')"
      ],
      "metadata": {
        "id": "8IdyZ3Y14VJL"
      },
      "execution_count": null,
      "outputs": []
    }
  ]
}