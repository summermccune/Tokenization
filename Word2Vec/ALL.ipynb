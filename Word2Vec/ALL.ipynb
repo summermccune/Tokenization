{
  "nbformat": 4,
  "nbformat_minor": 0,
  "metadata": {
    "colab": {
      "provenance": [],
      "gpuType": "T4",
      "authorship_tag": "ABX9TyPRoG3VVX33IA7n2rPwKb7l",
      "include_colab_link": true
    },
    "kernelspec": {
      "name": "python3",
      "display_name": "Python 3"
    },
    "language_info": {
      "name": "python"
    },
    "accelerator": "GPU"
  },
  "cells": [
    {
      "cell_type": "markdown",
      "metadata": {
        "id": "view-in-github",
        "colab_type": "text"
      },
      "source": [
        "<a href=\"https://colab.research.google.com/github/summermccune/Tokenization-Testing-for-Malware-Data/blob/main/Word2Vec/ALL.ipynb\" target=\"_parent\"><img src=\"https://colab.research.google.com/assets/colab-badge.svg\" alt=\"Open In Colab\"/></a>"
      ]
    },
    {
      "cell_type": "markdown",
      "source": [
        "## Importing Libraries"
      ],
      "metadata": {
        "id": "CafkSzFJ3TwN"
      }
    },
    {
      "cell_type": "code",
      "execution_count": null,
      "metadata": {
        "colab": {
          "base_uri": "https://localhost:8080/"
        },
        "id": "HKSVQfkN24Xa",
        "outputId": "ef1ec2a7-0cb0-40c6-ea1a-2fbd7288e3ce"
      },
      "outputs": [
        {
          "output_type": "stream",
          "name": "stderr",
          "text": [
            "[nltk_data] Downloading package punkt to /root/nltk_data...\n",
            "[nltk_data]   Package punkt is already up-to-date!\n"
          ]
        },
        {
          "output_type": "stream",
          "name": "stdout",
          "text": [
            "Drive already mounted at /content/drive; to attempt to forcibly remount, call drive.mount(\"/content/drive\", force_remount=True).\n"
          ]
        }
      ],
      "source": [
        "from gensim.models import Word2Vec\n",
        "import pandas as pd\n",
        "import numpy as np\n",
        "import matplotlib.pyplot as plt\n",
        "from sklearn.model_selection import train_test_split\n",
        "from sklearn.metrics import confusion_matrix\n",
        "import glob\n",
        "import nltk\n",
        "from nltk.tokenize import word_tokenize\n",
        "from nltk.util import trigrams\n",
        "from nltk.util import bigrams\n",
        "nltk.download('punkt')\n",
        "from sklearn.svm import SVC\n",
        "from google.colab import drive\n",
        "drive.mount('/content/drive')\n",
        "import csv"
      ]
    },
    {
      "cell_type": "markdown",
      "source": [
        "## Tokenization Functions"
      ],
      "metadata": {
        "id": "63vhquK24Hic"
      }
    },
    {
      "cell_type": "code",
      "source": [
        "def get_unigrams(df, malwareType):\n",
        "  count = 0\n",
        "  for row in df['Opcodes']:\n",
        "    count += 1\n",
        "    if count > 5:\n",
        "      break\n",
        "    data = row.split()\n",
        "    unigramList.append((data, malwareType))"
      ],
      "metadata": {
        "id": "nu0XckdX3ebY"
      },
      "execution_count": null,
      "outputs": []
    },
    {
      "cell_type": "code",
      "source": [
        "def get_bigrams(df, malwareType):\n",
        "  count = 0\n",
        "  for row in df['Opcodes']:\n",
        "    count += 1\n",
        "    if count > 5:\n",
        "      break\n",
        "    data = row.split()\n",
        "    bigrms = list(bigrams(data))\n",
        "    bigrms = [f\"{first} {second}\" for first, second in bigrms]\n",
        "    bigramList.append((data, malwareType))"
      ],
      "metadata": {
        "id": "a-zLzkFI3i1R"
      },
      "execution_count": null,
      "outputs": []
    },
    {
      "cell_type": "code",
      "source": [
        "def get_trigrams(df, malwareType):\n",
        "  count = 0\n",
        "  for row in df['Opcodes']:\n",
        "    count += 1\n",
        "    if count > 5:\n",
        "      break\n",
        "    data = row.split()\n",
        "    trigrms = list(trigrams(data))\n",
        "    trigrms = [f\"{first} {second} {third}\" for first, second, third in trigrms]\n",
        "    trigramList.append((trigrms, malwareType))"
      ],
      "metadata": {
        "id": "89hsWj8P3lIO"
      },
      "execution_count": null,
      "outputs": []
    },
    {
      "cell_type": "code",
      "source": [
        "def get_bigramstrigrams(text):\n",
        "  data_list = []\n",
        "  count = 0\n",
        "  for file in text:\n",
        "    count += 1\n",
        "    with open(file) as f:\n",
        "      data = f.read().split()\n",
        "      if count % 2 == 0:\n",
        "        bigrms = list(bigrams(data))\n",
        "        bigrms = [f\"{first} {second}\" for first, second in bigrms]\n",
        "        data_list.append(bigrms)\n",
        "      else:\n",
        "        trigrms = list(trigrams(data))\n",
        "        trigrms = [f\"{first} {second} {third}\" for first, second, third in trigrms]\n",
        "        data_list.append(trigrms)\n",
        "  return data_list"
      ],
      "metadata": {
        "id": "jlqX7K2V3oBG"
      },
      "execution_count": null,
      "outputs": []
    },
    {
      "cell_type": "code",
      "source": [
        "def wordpiece(text):\n",
        "  #placeholder"
      ],
      "metadata": {
        "id": "y_aXb2zd3tiY"
      },
      "execution_count": null,
      "outputs": []
    },
    {
      "cell_type": "markdown",
      "source": [
        "## Classification Functions"
      ],
      "metadata": {
        "id": "cbOCLbUf4Ktm"
      }
    },
    {
      "cell_type": "code",
      "source": [
        "def SVM():"
      ],
      "metadata": {
        "id": "6ilEuPXZ3xha"
      },
      "execution_count": null,
      "outputs": []
    },
    {
      "cell_type": "code",
      "source": [
        "def RandomForest():"
      ],
      "metadata": {
        "id": "zO8kOj8x4B6X"
      },
      "execution_count": null,
      "outputs": []
    },
    {
      "cell_type": "markdown",
      "source": [
        "## Main"
      ],
      "metadata": {
        "id": "vV_SG9iQ4TMh"
      }
    },
    {
      "cell_type": "code",
      "source": [
        "#read in the data\n",
        "FakeRean = pd.read_csv('/content/drive/My Drive/Data/FakeRean.csv')\n",
        "OnLineGames = pd.read_csv('/content/drive/My Drive/Data/OnLineGames.csv')\n",
        "Vobfus = pd.read_csv('/content/drive/My Drive/Data/Vobfus.csv')\n",
        "Winwebsec = pd.read_csv('/content/drive/My Drive/Data/Winwebsec.csv')\n",
        "\n",
        "#storing csv data as dataframes\n",
        "df_FakeRean = [FakeRean]\n",
        "df_FakeRean = pd.concat(df_FakeRean)\n",
        "df_OnLineGames = [OnLineGames]\n",
        "df_OnLineGames = pd.concat(df_OnLineGames)\n",
        "df_Vobfus = [Vobfus]\n",
        "df_Vobfus = pd.concat(df_Vobfus)\n",
        "df_Winwebsec = [Winwebsec]\n",
        "df_Winwebsec = pd.concat(df_Winwebsec)\n",
        "\n",
        "#converting opcodes to unigram list\n",
        "unigramList = []\n",
        "get_unigrams(df_FakeRean, 0)\n",
        "get_unigrams(df_OnLineGames, 1)\n",
        "get_unigrams(df_Vobfus, 2)\n",
        "get_unigrams(df_Winwebsec, 3)\n",
        "\n",
        "#converting opcodes to bigram list\n",
        "bigramList = []\n",
        "get_bigrams(df_FakeRean, 0)\n",
        "get_bigrams(df_OnLineGames, 1)\n",
        "get_bigrams(df_Vobfus, 2)\n",
        "get_bigrams(df_Winwebsec, 3)\n",
        "\n",
        "#converting opcodes to trigram list\n",
        "trigramList = []\n",
        "get_trigrams(df_FakeRean, 0)\n",
        "get_trigrams(df_OnLineGames, 1)\n",
        "get_trigrams(df_Vobfus, 2)\n",
        "get_trigrams(df_Winwebsec, 3)\n",
        "\n",
        "bigramtrigramList = []\n",
        "\n",
        "#converting lists to dataframes\n",
        "unigramList = pd.DataFrame(unigramList, columns=['Opcodes', 'MalwareType'])\n",
        "bigramList = pd.DataFrame(bigramList, columns=['Opcodes', 'MalwareType'])\n",
        "trigramList = pd.DataFrame(trigramList, columns=['Opcodes', 'MalwareType'])\n",
        "bigramtrigramList = pd.DataFrame(bigramtrigramList, columns=['Opcodes', 'MalwareType'])\n"
      ],
      "metadata": {
        "id": "8IdyZ3Y14VJL"
      },
      "execution_count": null,
      "outputs": []
    }
  ]
}