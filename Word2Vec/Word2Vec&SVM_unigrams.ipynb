{
  "cells": [
    {
      "cell_type": "markdown",
      "metadata": {
        "id": "view-in-github",
        "colab_type": "text"
      },
      "source": [
        "<a href=\"https://colab.research.google.com/github/summermccune/Tokenization-Testing-for-Malware-Data/blob/main/Word2Vec/Word2Vec%26SVM_unigrams.ipynb\" target=\"_parent\"><img src=\"https://colab.research.google.com/assets/colab-badge.svg\" alt=\"Open In Colab\"/></a>"
      ]
    },
    {
      "cell_type": "code",
      "execution_count": null,
      "metadata": {
        "colab": {
          "base_uri": "https://localhost:8080/"
        },
        "id": "4gYSnyKsDrZq",
        "outputId": "7fcc0014-5bdd-4478-fe8d-257c420cc25b"
      },
      "outputs": [
        {
          "output_type": "stream",
          "name": "stdout",
          "text": [
            "Drive already mounted at /content/drive; to attempt to forcibly remount, call drive.mount(\"/content/drive\", force_remount=True).\n"
          ]
        }
      ],
      "source": [
        "from gensim.models import Word2Vec\n",
        "import pandas as pd\n",
        "import numpy as np\n",
        "import matplotlib.pyplot as plt\n",
        "from sklearn.model_selection import train_test_split\n",
        "from sklearn.metrics import confusion_matrix\n",
        "import glob\n",
        "import nltk\n",
        "from nltk.tokenize import word_tokenize\n",
        "from sklearn.svm import SVC\n",
        "from google.colab import drive\n",
        "drive.mount('/content/drive')\n",
        "import csv\n",
        "from collections import Counter\n",
        "import re\n",
        "import gc"
      ]
    },
    {
      "cell_type": "code",
      "execution_count": null,
      "metadata": {
        "id": "3CIU2TbWKlM9"
      },
      "outputs": [],
      "source": [
        "def count(df, c):\n",
        "  for row in df['Opcodes']:\n",
        "     data = row.split()\n",
        "     c.update(data)"
      ]
    },
    {
      "cell_type": "code",
      "execution_count": null,
      "metadata": {
        "id": "IjpKkjrGgDWQ"
      },
      "outputs": [],
      "source": [
        "def removeNonVocab(vocab, series):\n",
        "  rows = []\n",
        "  vocab_str = '|'.join(vocab)\n",
        "  pattern = '\\\\b((?!\\\\b( |' + vocab_str + ')\\\\b).)*\\\\b'\n",
        "  for row in series:\n",
        "    row = re.sub(pattern, '', row)\n",
        "    row = re.sub(' +', ' ', row)\n",
        "    rows.append(row)\n",
        "  return rows"
      ]
    },
    {
      "cell_type": "code",
      "source": [
        "from os import remove\n",
        "#read in the data\n",
        "FakeRean = pd.read_csv('/content/drive/My Drive/Data/FakeRean.csv')\n",
        "OnLineGames = pd.read_csv('/content/drive/My Drive/Data/OnLineGames.csv')\n",
        "Vobfus = pd.read_csv('/content/drive/My Drive/Data/Vobfus.csv')\n",
        "Winwebsec = pd.read_csv('/content/drive/My Drive/Data/Winwebsec.csv')\n",
        "\n",
        "FakeRean_df = pd.DataFrame(FakeRean)\n",
        "OnLineGames_df = pd.DataFrame(OnLineGames)\n",
        "Vobfus_df = pd.DataFrame(Vobfus)\n",
        "Winwebsec_df = pd.DataFrame(Winwebsec)\n",
        "\n",
        "#drop first column\n",
        "FakeRean_df = FakeRean_df.iloc[:, 1:]\n",
        "OnLineGames_df = OnLineGames_df.iloc[:, 1:]\n",
        "Vobfus_df = Vobfus_df.iloc[:, 1:]\n",
        "\n",
        "print(FakeRean_df.head())\n",
        "print(FakeRean_df.shape)\n"
      ],
      "metadata": {
        "colab": {
          "base_uri": "https://localhost:8080/"
        },
        "id": "vsdDf-5BkYdZ",
        "outputId": "eab6d6e6-4b12-4685-e4c2-81a1e6e0004a"
      },
      "execution_count": null,
      "outputs": [
        {
          "output_type": "stream",
          "name": "stdout",
          "text": [
            "      Label                                            Opcodes\n",
            "0  FakeRean  add je testb je cmpb jb push push add add call...\n",
            "1  FakeRean  push mov push push mov xor push mov cmp jne mo...\n",
            "2  FakeRean  call mov pop pop pop ret int3 int3 int3 int3 i...\n",
            "3  FakeRean  add in add push call pop ret int3 int3 int3 in...\n",
            "4  FakeRean  mov push push push mov mov mov and cmp jne xor...\n",
            "(1000, 2)\n"
          ]
        }
      ]
    },
    {
      "cell_type": "code",
      "execution_count": null,
      "metadata": {
        "colab": {
          "base_uri": "https://localhost:8080/"
        },
        "id": "-wcpa3IHEzmZ",
        "outputId": "d92c47fe-9258-4af3-b345-456e7e502c2d"
      },
      "outputs": [
        {
          "output_type": "stream",
          "name": "stdout",
          "text": [
            "['add', 'mov', 'push', 'pop', 'inc', 'call', 'xchg', 'dec', 'or', 'cmp', 'xor', 'sub', 'lea', 'and', 'adc', 'sbb', 'test', 'out', 'in', 'jmp', 'movl', 'int3', 'ret', 'je', 'imul', 'nop', 'stos', 'lods', 'jne', 'scas', 'lret']\n"
          ]
        }
      ],
      "source": [
        "\n",
        "#read in the data\n",
        "FakeRean = pd.read_csv('/content/drive/My Drive/Data/FakeRean.csv')\n",
        "OnLineGames = pd.read_csv('/content/drive/My Drive/Data/OnLineGames.csv')\n",
        "Vobfus = pd.read_csv('/content/drive/My Drive/Data/Vobfus.csv')\n",
        "Winwebsec = pd.read_csv('/content/drive/My Drive/Data/Winwebsec.csv')\n",
        "\n",
        "FakeRean_df = pd.DataFrame(FakeRean)\n",
        "OnLineGames_df = pd.DataFrame(OnLineGames)\n",
        "Vobfus_df = pd.DataFrame(Vobfus)\n",
        "Winwebsec_df = pd.DataFrame(Winwebsec)\n",
        "\n",
        "#drop first column\n",
        "FakeRean_df = FakeRean_df.iloc[:, 1:]\n",
        "OnLineGames_df = OnLineGames_df.iloc[:, 1:]\n",
        "Vobfus_df = Vobfus_df.iloc[:, 1:]\n",
        "Winwebsec_df = Winwebsec_df.iloc[:, 1:]\n",
        "\n",
        "#divide dfs in half\n",
        "FakeRean_df = FakeRean_df.iloc[:len(FakeRean_df)//2]\n",
        "OnLineGames_df = OnLineGames_df.iloc[:len(OnLineGames_df)//2]\n",
        "Vobfus_df = Vobfus_df.iloc[:len(Vobfus_df)//2]\n",
        "Winwebsec_df = Winwebsec_df.iloc[:len(Winwebsec_df)//2]\n",
        "\n",
        "#splitting into test and train\n",
        "# FakeRean_train, FakeRean_test = train_test_split(FakeRean, test_size=0.2, random_state = 7)\n",
        "# OnLineGames_train, OnLineGames_test = train_test_split(OnLineGames, test_size=0.2, random_state = 7)\n",
        "# Vobfus_train, Vobfus_test = train_test_split(Vobfus, test_size=0.2, random_state = 7)\n",
        "# Winwebsec_train, Winwebsec_test = train_test_split(Winwebsec, test_size=0.2, random_state = 7)\n",
        "\n",
        "#counting opcodes for data cleaning\n",
        "unigramList = []\n",
        "countTotal = Counter()\n",
        "count(FakeRean_df, countTotal)\n",
        "count(OnLineGames_df,countTotal)\n",
        "count(Vobfus_df,countTotal)\n",
        "count(Winwebsec_df,countTotal)\n",
        "\n",
        "#list for most common opcodes\n",
        "total_count = countTotal.most_common(31)\n",
        "countList = [x[0] for x in total_count]\n",
        "print(countList)\n",
        "\n",
        "#adding cleaned data to new dataframe\n",
        "rows = []\n",
        "\n",
        "FakeRean_rows = removeNonVocab(countList, FakeRean_df['Opcodes'])\n",
        "for row in FakeRean_rows:\n",
        "  row = row.split()\n",
        "  rows.append((tuple(row), 0))\n",
        "\n",
        "OnLineGames_rows = removeNonVocab(countList, OnLineGames_df['Opcodes'])\n",
        "for row in OnLineGames_rows:\n",
        "  row = row.split()\n",
        "  rows.append((tuple(row), 1))\n",
        "\n",
        "Vobfus_rows = removeNonVocab(countList, Vobfus_df['Opcodes'])\n",
        "for row in Vobfus_rows:\n",
        "  row = row.split()\n",
        "  rows.append((tuple(row), 2))\n",
        "\n",
        "Winwebsec_rows = removeNonVocab(countList, Winwebsec_df['Opcodes'])\n",
        "for row in Winwebsec_rows:\n",
        "  row = row.split()\n",
        "  rows.append((tuple(row), 3))\n"
      ]
    },
    {
      "cell_type": "code",
      "execution_count": null,
      "metadata": {
        "id": "QRfotelXJkAB"
      },
      "outputs": [],
      "source": [
        "#turn rows tuple into df\n",
        "df = pd.DataFrame(rows, columns=['Opcodes', 'MalwareType'])\n",
        "#remove rows from memory\n",
        "del rows"
      ]
    },
    {
      "cell_type": "code",
      "execution_count": null,
      "metadata": {
        "id": "ixUNXU5oQSjq"
      },
      "outputs": [],
      "source": [
        "df.head()\n",
        "#convert df to csv\n",
        "df.to_csv('data.csv', index=False)"
      ]
    },
    {
      "cell_type": "code",
      "execution_count": null,
      "metadata": {
        "id": "-NhBD5OHm0Uj"
      },
      "outputs": [],
      "source": [
        "#word2vec\n",
        "model = Word2Vec(df['Opcodes'], min_count=1, vector_size=31, window=1)"
      ]
    },
    {
      "cell_type": "code",
      "execution_count": null,
      "metadata": {
        "id": "5Yeb7ZHpTib-"
      },
      "outputs": [],
      "source": [
        "#SVM\n",
        "X = np.array([np.mean([model.wv[word] for word in text if word in model.wv], axis=0) for text in df['Opcodes']])\n",
        "y = df['MalwareType']\n",
        "X_train, X_test, y_train, y_test = train_test_split(X, y, test_size=0.2, random_state = 7)"
      ]
    },
    {
      "cell_type": "code",
      "source": [
        "svm = SVC(kernel='linear')\n",
        "svm.fit(X_train, y_train)\n",
        "y_pred = svm.predict(X_test)\n",
        "\n",
        "#accuracy\n",
        "print(svm.score(X_test, y_test))\n",
        "\n",
        "#confusion matrix\n",
        "cm = confusion_matrix(y_test, y_pred)\n",
        "print(cm)"
      ],
      "metadata": {
        "colab": {
          "base_uri": "https://localhost:8080/"
        },
        "id": "8fhi8DyHYigb",
        "outputId": "c993d523-3f0a-4b25-a8f4-3c48b25e29e8"
      },
      "execution_count": null,
      "outputs": [
        {
          "output_type": "stream",
          "name": "stdout",
          "text": [
            "0.78\n",
            "[[73 10  2 25]\n",
            " [12 67  0  9]\n",
            " [ 0  6 96  0]\n",
            " [17  5  2 76]]\n"
          ]
        }
      ]
    }
  ],
  "metadata": {
    "colab": {
      "provenance": [],
      "authorship_tag": "ABX9TyNVXJlmlvug5MKaxb5AO4sk",
      "include_colab_link": true
    },
    "kernelspec": {
      "display_name": "Python 3",
      "name": "python3"
    },
    "language_info": {
      "name": "python"
    }
  },
  "nbformat": 4,
  "nbformat_minor": 0
}