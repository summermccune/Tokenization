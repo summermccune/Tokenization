{
  "nbformat": 4,
  "nbformat_minor": 0,
  "metadata": {
    "colab": {
      "provenance": [],
      "authorship_tag": "ABX9TyNxZG2Cpp5EeDd0wL6Eys5o",
      "include_colab_link": true
    },
    "kernelspec": {
      "name": "python3",
      "display_name": "Python 3"
    },
    "language_info": {
      "name": "python"
    }
  },
  "cells": [
    {
      "cell_type": "markdown",
      "metadata": {
        "id": "view-in-github",
        "colab_type": "text"
      },
      "source": [
        "<a href=\"https://colab.research.google.com/github/summermccune/Tokenization/blob/main/Word2Vec/Word2Vec%26RandomForest_trigrams.ipynb\" target=\"_parent\"><img src=\"https://colab.research.google.com/assets/colab-badge.svg\" alt=\"Open In Colab\"/></a>"
      ]
    },
    {
      "cell_type": "code",
      "execution_count": null,
      "metadata": {
        "id": "ehaoj8RkS8XF",
        "colab": {
          "base_uri": "https://localhost:8080/"
        },
        "outputId": "59a5292b-e75b-41ad-9f87-3faa2746f703"
      },
      "outputs": [
        {
          "output_type": "stream",
          "name": "stderr",
          "text": [
            "[nltk_data] Downloading package punkt to /root/nltk_data...\n",
            "[nltk_data]   Package punkt is already up-to-date!\n"
          ]
        }
      ],
      "source": [
        "from gensim.models import Word2Vec\n",
        "import pandas as pd\n",
        "import numpy as np\n",
        "import matplotlib.pyplot as plt\n",
        "from sklearn.model_selection import train_test_split\n",
        "from sklearn.metrics import confusion_matrix\n",
        "import glob\n",
        "import nltk\n",
        "from nltk.tokenize import word_tokenize\n",
        "from nltk.util import bigrams\n",
        "nltk.download('punkt')\n",
        "from sklearn.svm import SVC"
      ]
    },
    {
      "cell_type": "code",
      "source": [
        "from google.colab import drive\n",
        "drive.mount('/content/drive')"
      ],
      "metadata": {
        "id": "C5sfpudS05f-",
        "colab": {
          "base_uri": "https://localhost:8080/"
        },
        "outputId": "62c225bd-8309-42f7-8269-e7f53715df40"
      },
      "execution_count": null,
      "outputs": [
        {
          "output_type": "stream",
          "name": "stdout",
          "text": [
            "Mounted at /content/drive\n"
          ]
        }
      ]
    },
    {
      "cell_type": "code",
      "source": [
        "def read_files(malwarefolder, malwareType):\n",
        "  for sample in malwarefolder:\n",
        "    with open(sample, 'r') as f:\n",
        "      data = f.read().split()\n",
        "      #make opcodes into bigrams\n",
        "      trigrms = list(trigrams(data))\n",
        "      #make the bigrams each their own string\n",
        "      trigrms = [f\"{first} {second} {third}\" for first, second, third in trigrms]\n",
        "      data = trigrms\n",
        "    #append sample to opcodes list in df\n",
        "    df.loc[len(df)] = [data, malwareType]"
      ],
      "metadata": {
        "id": "m4VYX1UeL6qb"
      },
      "execution_count": null,
      "outputs": []
    },
    {
      "cell_type": "code",
      "source": [
        "#creating dataframe for samples and label\n",
        "df = pd.DataFrame(columns = ['opcodes','label'])\n",
        "\n",
        "#specify paths for each malware\n",
        "winwebsec = glob.glob(\"/content/drive/MyDrive/Data/malware2/winwebsec/*.txt\")\n",
        "zbot = glob.glob(\"/content/drive/MyDrive/Data/malware2/zbot/*.txt\")\n",
        "zeroaccess = glob.glob(\"/content/drive/MyDrive/Data/malware2/zeroaccess/*.txt\")\n",
        "\n",
        "#read files\n",
        "read_files(winwebsec, 0)\n",
        "read_files(zbot, 1)\n",
        "read_files(zeroaccess, 2)\n",
        "\n",
        "print(df.shape)\n",
        "df.head()\n"
      ],
      "metadata": {
        "id": "7QNq5mWV7KsM"
      },
      "execution_count": null,
      "outputs": []
    },
    {
      "cell_type": "code",
      "source": [
        "#word2vec\n",
        "model = Word2Vec(df['opcodes'], min_count=1, vector_size=100)"
      ],
      "metadata": {
        "id": "3ObhJWWV42tN"
      },
      "execution_count": null,
      "outputs": []
    },
    {
      "cell_type": "code",
      "source": [
        "#Random Forest\n",
        "clf = RandomForestClassifier()\n",
        "X = np.array([np.mean([model.wv[word] for word in text if word in model.wv]\n",
        "                        , axis=0) for text in df['opcodes']])\n",
        "y = df['label']\n",
        "X_train, X_test, y_train, y_test = train_test_split(X, y, test_size=0.1, random_state=42)\n",
        "clf.fit(X_train, y_train)\n",
        "y_pred = clf.predict(X_test)\n",
        "\n",
        "#accuracy\n",
        "print(\"Accuracy:\", np.mean(y_pred == y_test))\n",
        "#confusion matrix\n",
        "cm = confusion_matrix(y_test, y_pred)\n",
        "print(cm)"
      ],
      "metadata": {
        "id": "tfTdEOcQxI9W"
      },
      "execution_count": null,
      "outputs": []
    }
  ]
}