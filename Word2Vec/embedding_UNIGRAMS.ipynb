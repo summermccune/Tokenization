{
  "nbformat": 4,
  "nbformat_minor": 0,
  "metadata": {
    "colab": {
      "provenance": [],
      "authorship_tag": "ABX9TyMfzze80OLglYpBP78Fu3ha",
      "include_colab_link": true
    },
    "kernelspec": {
      "name": "python3",
      "display_name": "Python 3"
    },
    "language_info": {
      "name": "python"
    }
  },
  "cells": [
    {
      "cell_type": "markdown",
      "metadata": {
        "id": "view-in-github",
        "colab_type": "text"
      },
      "source": [
        "<a href=\"https://colab.research.google.com/github/summermccune/Tokenization-Testing-for-Malware-Data/blob/main/Word2Vec/embedding_UNIGRAMS.ipynb\" target=\"_parent\"><img src=\"https://colab.research.google.com/assets/colab-badge.svg\" alt=\"Open In Colab\"/></a>"
      ]
    },
    {
      "cell_type": "code",
      "execution_count": null,
      "metadata": {
        "id": "iKPIEN_GXZ8S"
      },
      "outputs": [],
      "source": [
        "!pip install \"scipy==1.11.0\"#change this line?\n",
        "!pip install gensim\n",
        "!pip install pandas\n",
        "!pip install numpy\n",
        "!pip install matplotlib\n",
        "!pip install scikit-learn\n",
        "!pip install glob\n",
        "!pip install nltk\n",
        "!pip install csv\n",
        "!pip install collections\n",
        "!pip install re\n",
        "!pip install gc\n",
        "from gensim.models import Word2Vec\n",
        "import pandas as pd\n",
        "import numpy as np\n",
        "import matplotlib.pyplot as plt\n",
        "import glob\n",
        "import nltk\n",
        "from nltk.tokenize import word_tokenize\n",
        "# from google.colab import drive\n",
        "# drive.mount('/content/drive')\n",
        "import csv\n",
        "from collections import Counter\n",
        "import re\n",
        "import gc"
      ]
    },
    {
      "cell_type": "code",
      "source": [
        "df = pd.read_csv('UnigramFilteredOpcodes.csv')\n",
        "\n",
        "#word2vec N = 100, W = 30\n",
        "model = Word2Vec(df['Opcodes'], min_count=1, vector_size=100, window=30)\n",
        "embeddings = np.array([np.mean([model.wv[word] for word in text if word in model.wv], axis=0) for text in df['Opcodes']])\n",
        "np.save('ALL_embeddings.npy', embeddings)\n",
        "\n",
        "#word2vec N = 31, W = 10\n",
        "model = Word2Vec(df['Opcodes'], min_count=1, vector_size=31, window=10)\n",
        "embeddings = np.array([np.mean([model.wv[word] for word in text if word in model.wv], axis=0) for text in df['Opcodes']])\n",
        "np.save('SVM_embeddings.npy', embeddings)"
      ],
      "metadata": {
        "id": "6anxSjm0cKZp"
      },
      "execution_count": 11,
      "outputs": []
    },
    {
      "cell_type": "markdown",
      "source": [
        "## Test Reading from the Created CSV"
      ],
      "metadata": {
        "id": "F2XJlB7srqoU"
      }
    },
    {
      "cell_type": "code",
      "source": [
        "data = pd.read_csv('UnigramFilteredOpcodes.csv')\n",
        "#turn to df\n",
        "df = pd.DataFrame(data)\n",
        "print(df.head())"
      ],
      "metadata": {
        "colab": {
          "base_uri": "https://localhost:8080/"
        },
        "id": "qmtHkJaGjz2o",
        "outputId": "18756680-c3b0-4328-9a5a-a5b3afea71f0"
      },
      "execution_count": 12,
      "outputs": [
        {
          "output_type": "stream",
          "name": "stdout",
          "text": [
            "                                             Opcodes  MalwareType\n",
            "0  ('add', 'je', 'je', 'push', 'push', 'add', 'ad...            0\n",
            "1  ('push', 'mov', 'push', 'push', 'mov', 'xor', ...            0\n",
            "2  ('call', 'mov', 'pop', 'pop', 'pop', 'ret', 'i...            0\n",
            "3  ('add', 'in', 'add', 'push', 'call', 'pop', 'r...            0\n",
            "4  ('mov', 'push', 'push', 'push', 'mov', 'mov', ...            0\n"
          ]
        }
      ]
    }
  ]
}