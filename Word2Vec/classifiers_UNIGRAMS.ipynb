{
  "nbformat": 4,
  "nbformat_minor": 0,
  "metadata": {
    "colab": {
      "provenance": [],
      "authorship_tag": "ABX9TyOrFHBIeuUB9PJlTpuidKyG",
      "include_colab_link": true
    },
    "kernelspec": {
      "name": "python3",
      "display_name": "Python 3"
    },
    "language_info": {
      "name": "python"
    }
  },
  "cells": [
    {
      "cell_type": "markdown",
      "metadata": {
        "id": "view-in-github",
        "colab_type": "text"
      },
      "source": [
        "<a href=\"https://colab.research.google.com/github/summermccune/Tokenization-Testing-for-Malware-Data/blob/main/Word2Vec/classifiers_UNIGRAMS.ipynb\" target=\"_parent\"><img src=\"https://colab.research.google.com/assets/colab-badge.svg\" alt=\"Open In Colab\"/></a>"
      ]
    },
    {
      "cell_type": "code",
      "execution_count": 3,
      "metadata": {
        "colab": {
          "base_uri": "https://localhost:8080/"
        },
        "id": "OXgDf_HDtHrr",
        "outputId": "c5cf1532-33ba-4f1b-df46-42e2aec02b87"
      },
      "outputs": [
        {
          "output_type": "stream",
          "name": "stdout",
          "text": [
            "Drive already mounted at /content/drive; to attempt to forcibly remount, call drive.mount(\"/content/drive\", force_remount=True).\n"
          ]
        }
      ],
      "source": [
        "# mount drive\n",
        "from google.colab import drive\n",
        "drive.mount('/content/drive')\n",
        "import pandas as pd\n",
        "import numpy as np\n",
        "import matplotlib.pyplot as plt\n",
        "from sklearn.svm import SVC\n",
        "from sklearn.ensemble import RandomForestClassifier\n",
        "from sklearn.neighbors import KNeighborsClassifier\n",
        "import tensorflow as tf\n",
        "from tensorflow import keras\n",
        "from sklearn.model_selection import train_test_split\n",
        "from sklearn.metrics import accuracy_score\n",
        "from sklearn.metrics import confusion_matrix"
      ]
    },
    {
      "cell_type": "markdown",
      "source": [
        "## Read in and Split Data"
      ],
      "metadata": {
        "id": "RVSfB8LYuQNq"
      }
    },
    {
      "cell_type": "code",
      "source": [
        "df = pd.read_csv('/content/drive/MyDrive/Tokenization-Data/UnigramFilteredOpcodes.csv')\n",
        "X_SVM = np.load('/content/drive/MyDrive/Tokenization-Data/SVM_embeddings.npy')\n",
        "X_ELSE = np.load('/content/drive/MyDrive/Tokenization-Data/ALL_embeddings.npy')\n",
        "y = df['MalwareType']\n",
        "X_train_SVM, X_test_SVM, y_train_SVM, y_test_SVM = train_test_split(X_SVM, y, test_size=0.2, random_state=42)\n",
        "X_train_ELSE, X_test_ELSE, y_train_ELSE, y_test_ELSE = train_test_split(X_ELSE, y, test_size=0.2, random_state=42)"
      ],
      "metadata": {
        "id": "D6-p9-NvuOWf"
      },
      "execution_count": null,
      "outputs": []
    },
    {
      "cell_type": "markdown",
      "source": [
        "## SVM"
      ],
      "metadata": {
        "id": "x_nisAu6tKyD"
      }
    },
    {
      "cell_type": "code",
      "source": [
        "svm = SVC(kernel='linear')\n",
        "svm.fit(X_train_SVM, y_train_SVM)\n",
        "y_pred_SVM = svm.predict(X_test_SVM)\n",
        "accuracy = accuracy_score(y_test_SVM, y_pred_SVM)\n",
        "print(\"Accuracy:\", accuracy_SVM)\n",
        "cm = confusion_matrix(y_test_SVM, y_pred_SVM)\n",
        "print(\"Confusion Matrix:\")\n",
        "print(cm)"
      ],
      "metadata": {
        "id": "jpO8xzdDtMbz"
      },
      "execution_count": null,
      "outputs": []
    },
    {
      "cell_type": "markdown",
      "source": [
        "## Random Forest"
      ],
      "metadata": {
        "id": "yyAwZhjqtM2p"
      }
    },
    {
      "cell_type": "code",
      "source": [
        "clf = RandomForestClassifier(n_estimators=1000)\n",
        "clf.fit(X_train_ELSE, y_train_ELSE)\n",
        "y_pred_ELSE = clf.predict(X_test_ELSE)\n",
        "accuracy = accuracy_score(y_test_ELSE, y_pred_ELSE)\n",
        "print(\"Accuracy:\", accuracy)\n",
        "cm = confusion_matrix(y_test_ELSE, y_pred_ELSE)\n",
        "print(\"Confusion Matrix:\")\n",
        "print(cm)"
      ],
      "metadata": {
        "id": "XPqFLmjFtO-o"
      },
      "execution_count": null,
      "outputs": []
    },
    {
      "cell_type": "markdown",
      "source": [
        "## kNN"
      ],
      "metadata": {
        "id": "4vpQM_vutPbe"
      }
    },
    {
      "cell_type": "code",
      "source": [
        "#they used k = sqrt(s) and got 70\n",
        "# ours is about 63\n",
        "knn = KNeighborsClassifier(n_neighbors=63)\n",
        "knn.fit(X_train_ELSE, y_train_ELSE)\n",
        "y_pred_knn = knn.predict(X_test_ELSE)\n",
        "accuracy = accuracy_score(y_test_ELSE, y_pred_knn)\n",
        "print(\"Accuracy:\", accuracy)\n",
        "cm = confusion_matrix(y_test_ELSE, y_pred_knn)\n",
        "print(\"Confusion Matrix:\")\n",
        "print(cm)"
      ],
      "metadata": {
        "id": "aMdSbyrztV0Q"
      },
      "execution_count": null,
      "outputs": []
    },
    {
      "cell_type": "markdown",
      "source": [
        "## CNN"
      ],
      "metadata": {
        "id": "jLPrLY3FtWJ2"
      }
    },
    {
      "cell_type": "code",
      "source": [
        "#not sure if we need this implementation\n",
        "\n",
        "#split test data into val and test\n",
        "X_test_CNN, X_val_CNN, y_test_CNN, y_val_CNN = train_test_split(X_test_ELSE, y_test_ELSE, test_size=0.5, random_state=42)\n"
      ],
      "metadata": {
        "id": "MswTynzG4QrE"
      },
      "execution_count": null,
      "outputs": []
    }
  ]
}