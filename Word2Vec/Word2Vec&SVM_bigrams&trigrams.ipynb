{
  "nbformat": 4,
  "nbformat_minor": 0,
  "metadata": {
    "colab": {
      "provenance": [],
      "authorship_tag": "ABX9TyODRKa7AtmM4Bk1ek1C7Cn+",
      "include_colab_link": true
    },
    "kernelspec": {
      "name": "python3",
      "display_name": "Python 3"
    },
    "language_info": {
      "name": "python"
    }
  },
  "cells": [
    {
      "cell_type": "markdown",
      "metadata": {
        "id": "view-in-github",
        "colab_type": "text"
      },
      "source": [
        "<a href=\"https://colab.research.google.com/github/summermccune/Tokenization-Testing-for-Malware-Data/blob/main/Word2Vec/Word2Vec%26SVM_bigrams%26trigrams.ipynb\" target=\"_parent\"><img src=\"https://colab.research.google.com/assets/colab-badge.svg\" alt=\"Open In Colab\"/></a>"
      ]
    },
    {
      "cell_type": "code",
      "execution_count": null,
      "metadata": {
        "id": "zcLhu_5gyQfq"
      },
      "outputs": [],
      "source": [
        "from gensim.models import Word2Vec\n",
        "import pandas as pd\n",
        "import numpy as np\n",
        "from gensim.utils import simple_preprocess\n",
        "import matplotlib.pyplot as plt\n",
        "from sklearn.model_selection import train_test_split\n",
        "from sklearn.metrics import confusion_matrix\n",
        "import glob\n",
        "import nltk\n",
        "from nltk.tokenize import word_tokenize\n",
        "from nltk.util import trigrams\n",
        "from nltk.util import bigrams\n",
        "nltk.download('punkt')\n",
        "from sklearn.feature_extraction.text import TfidfVectorizer\n",
        "from sklearn.svm import SVC"
      ]
    },
    {
      "cell_type": "code",
      "source": [
        "from google.colab import drive\n",
        "drive.mount('/content/drive')"
      ],
      "metadata": {
        "id": "C5sfpudS05f-"
      },
      "execution_count": null,
      "outputs": []
    },
    {
      "cell_type": "code",
      "source": [
        "def read_files(malwarefolder, malwareType):\n",
        "  count = 0\n",
        "  for sample in malwarefolder:\n",
        "    count += 1\n",
        "    with open(sample, 'r') as f:\n",
        "      data = f.read().split()\n",
        "      if count // 2 == 0:\n",
        "        #make opcodes into trigrams\n",
        "        trigrms = list(trigrams(data))\n",
        "        #make the trigrams each their own string\n",
        "        trigrms = [f\"{first} {second} {third}\" for first, second, third in trigrms]\n",
        "        data = trigrms\n",
        "      else:\n",
        "        #make opcodes into bigrams\n",
        "        bigrams = list(bigrams(data))\n",
        "        #make the bigrams each their own string\n",
        "        bigrams = [f\"{first} {second}\" for first, second in bigrams]\n",
        "        data = bigrams\n",
        "    #append sample to opcodes list in df\n",
        "    df.loc[len(df)] = [data, malwareType]"
      ],
      "metadata": {
        "id": "m4VYX1UeL6qb"
      },
      "execution_count": null,
      "outputs": []
    }
  ]
}