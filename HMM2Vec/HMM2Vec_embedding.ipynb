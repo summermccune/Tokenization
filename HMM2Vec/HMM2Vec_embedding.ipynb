{
  "nbformat": 4,
  "nbformat_minor": 0,
  "metadata": {
    "colab": {
      "provenance": [],
      "authorship_tag": "ABX9TyNzyo8g8VyUfIaHgYj80x0Z",
      "include_colab_link": true
    },
    "kernelspec": {
      "name": "python3",
      "display_name": "Python 3"
    },
    "language_info": {
      "name": "python"
    }
  },
  "cells": [
    {
      "cell_type": "markdown",
      "metadata": {
        "id": "view-in-github",
        "colab_type": "text"
      },
      "source": [
        "<a href=\"https://colab.research.google.com/github/summermccune/Tokenization-Testing-for-Malware-Data/blob/main/HMM2Vec/HMM2Vec_embedding.ipynb\" target=\"_parent\"><img src=\"https://colab.research.google.com/assets/colab-badge.svg\" alt=\"Open In Colab\"/></a>"
      ]
    },
    {
      "cell_type": "code",
      "source": [
        "#timer\n",
        "!pip install ipython-autotime\n",
        "%load_ext autotime"
      ],
      "metadata": {
        "id": "sZxmKLUxhmNB"
      },
      "execution_count": null,
      "outputs": []
    },
    {
      "cell_type": "markdown",
      "source": [
        "## Imports"
      ],
      "metadata": {
        "id": "JWahsyScG_2X"
      }
    },
    {
      "cell_type": "code",
      "execution_count": 2,
      "metadata": {
        "id": "2MHOtJcGOa7I",
        "colab": {
          "base_uri": "https://localhost:8080/"
        },
        "outputId": "ca832757-3f1c-4c2b-f51f-ffe48f45d546"
      },
      "outputs": [
        {
          "output_type": "stream",
          "name": "stdout",
          "text": [
            "time: 21.4 s (started: 2024-07-10 12:22:06 -07:00)\n"
          ]
        }
      ],
      "source": [
        "from hmmlearn import hmm\n",
        "import pandas as pd\n",
        "import numpy as np\n",
        "from sklearn.model_selection import train_test_split\n",
        "from sklearn.svm import SVC\n",
        "import pickle\n",
        "# from google.colab import drive\n",
        "# drive.mount('/content/drive')"
      ]
    },
    {
      "cell_type": "markdown",
      "source": [
        "## Reading in df and splitting data"
      ],
      "metadata": {
        "id": "FUhzFw1ZHCig"
      }
    },
    {
      "cell_type": "code",
      "source": [
        "df = pd.read_pickle('UnigramFilteredOpcodes.pkl')\n",
        "opcodes_df = pd.read_csv('MostCommonOpcodes.csv')\n",
        "#split dataset in 1/3\n",
        "df = df.sample(frac=0.25)"
      ],
      "metadata": {
        "id": "41Jl9vKPOz8F",
        "colab": {
          "base_uri": "https://localhost:8080/"
        },
        "outputId": "5cf4f82c-e061-4126-8cd2-ff5735087fa6"
      },
      "execution_count": 3,
      "outputs": [
        {
          "output_type": "stream",
          "name": "stdout",
          "text": [
            "time: 2min 13s (started: 2024-07-10 12:22:28 -07:00)\n"
          ]
        }
      ]
    },
    {
      "cell_type": "markdown",
      "source": [
        "## Creating numerical representation for the opcodes"
      ],
      "metadata": {
        "id": "UwCMW-SkHJaM"
      }
    },
    {
      "cell_type": "code",
      "source": [
        "#creating a list of number representation for each opcode that is in the dataset\n",
        "opcode_to_number = {}\n",
        "count = 0\n",
        "for opcode in opcodes_df['Opcodes']:\n",
        "    opcode_to_number[opcode] = count\n",
        "    count += 1\n",
        "\n",
        "print(opcode_to_number)"
      ],
      "metadata": {
        "colab": {
          "base_uri": "https://localhost:8080/"
        },
        "id": "Im1VE7DZhV18",
        "outputId": "c734d7d4-ca02-4e43-a25a-b042186a484f"
      },
      "execution_count": 4,
      "outputs": [
        {
          "output_type": "stream",
          "name": "stdout",
          "text": [
            "{'add': 0, 'mov': 1, 'push': 2, 'pop': 3, 'inc': 4, 'xchg': 5, 'call': 6, 'or': 7, 'dec': 8, 'cmp': 9, 'xor': 10, 'sub': 11, 'and': 12, 'adc': 13, 'sbb': 14, 'lea': 15, 'test': 16, 'out': 17, 'in': 18, 'jmp': 19, 'movl': 20, 'int3': 21, 'ret': 22, 'imul': 23, 'je': 24, 'nop': 25, 'lods': 26, 'stos': 27, 'scas': 28, 'lret': 29, 'jne': 30}\n",
            "time: 47 ms (started: 2024-07-10 12:24:41 -07:00)\n"
          ]
        }
      ]
    },
    {
      "cell_type": "markdown",
      "source": [
        "## Function for converting samples into the numerical representations"
      ],
      "metadata": {
        "id": "4qEvrTsBHUTf"
      }
    },
    {
      "cell_type": "code",
      "source": [
        "def opcodes_to_numbers(columns):\n",
        "  for sample in columns:\n",
        "    # length = len(sample)\n",
        "    # sequence_lengths.append(length)\n",
        "    temp = []\n",
        "    for opcode in sample:\n",
        "      temp.append(opcode_to_number[opcode])\n",
        "    opcode_sequences.append(temp)"
      ],
      "metadata": {
        "id": "NTFi3JrYmClW",
        "colab": {
          "base_uri": "https://localhost:8080/"
        },
        "outputId": "c892b1d1-4733-4822-a380-11574d16bc8f"
      },
      "execution_count": 5,
      "outputs": [
        {
          "output_type": "stream",
          "name": "stdout",
          "text": [
            "time: 15 ms (started: 2024-07-10 12:24:41 -07:00)\n"
          ]
        }
      ]
    },
    {
      "cell_type": "markdown",
      "source": [
        "## Function for training the models"
      ],
      "metadata": {
        "id": "2jjcI-7mHitu"
      }
    },
    {
      "cell_type": "markdown",
      "source": [
        "Notes about the implementation (from the paper):\n",
        "\n",
        "As mentioned above, we train HMMs using the hmmlearn library [7] and **we select the\n",
        "highest scoring model based on multiple random restarts**. The precise number of random\n",
        "restarts is determined by the length of the opcode sequence—for **shorter sequences in the\n",
        "range of 1000 to 5000 opcodes, we use 100 restarts; otherwise we select the best model\n",
        "based on 50 random restarts**. The B matrix of the highest-scoring model is then converted\n",
        "to a one-dimensional vector."
      ],
      "metadata": {
        "id": "VNQWSlGdHm0_"
      }
    },
    {
      "cell_type": "code",
      "source": [
        "def train_hmm_models(opcodes,n_states,n_restarts):\n",
        "  hmm_models = []\n",
        "  for opcode_seq in opcodes:\n",
        "      model = hmm.CategoricalHMM(n_components=n_states, n_iter=100)\n",
        "      opcode_seq = np.array(opcode_seq)\n",
        "      model.fit(opcode_seq.reshape(-1, 1))\n",
        "      hmm_models.append(model)\n",
        "    # best_model = None\n",
        "    # best_score = -np.inf\n",
        "    # for i in range(n_restarts):\n",
        "    #   model = hmm.MultinomialHMM(n_components=n_states, n_iter=100)\n",
        "    #   opcode_seq = np.array(opcode_seq)\n",
        "    #   model.fit(opcode_seq.reshape(-1, 1))\n",
        "\n",
        "    #   #check if the model has a higher score than the current best model\n",
        "    #   score = model.score(opcode_seq.reshape(-1, 1))\n",
        "    #   if score > best_score:\n",
        "    #     best_model = model\n",
        "    #     best_score = score\n",
        "    # hmm_models.append(best_model)\n",
        "\n",
        "  return hmm_models"
      ],
      "metadata": {
        "colab": {
          "base_uri": "https://localhost:8080/"
        },
        "id": "IhrlknmWxEo8",
        "outputId": "f18b1dd5-7668-46ca-d0bd-7f8c3f5375fb"
      },
      "execution_count": 6,
      "outputs": [
        {
          "output_type": "stream",
          "name": "stdout",
          "text": [
            "time: 0 ns (started: 2024-07-10 12:24:41 -07:00)\n"
          ]
        }
      ]
    },
    {
      "cell_type": "markdown",
      "source": [
        "## Function for converting the matrix to feature vectors"
      ],
      "metadata": {
        "id": "a5k9K8zYIIFG"
      }
    },
    {
      "cell_type": "markdown",
      "source": [
        "Notes on the implementation:\n",
        "\n",
        "To obtain the HMM2Vec features, we convert the B matrix of a trained HMM into\n",
        "vector form. A subtle point that arises in this conversion process is that the order of the\n",
        "hidden states in the B matrix need not be consistent across different models. **Since we only\n",
        "have N = 2 hidden states in our experiments, this means that the order of the rows of the\n",
        "corresponding B matrices may not agree between different models**. To account for this\n",
        "possibility, **we determine the hidden state that has the highest probability with respect to\n",
        "the mov opcode and we deem this to be the first half of the HMM2Vec feature vector, with\n",
        "the other row of the B matrix being the second half of the vector**. Since mov is by far the\n",
        "most frequent opcode, this will yield a consistent ordering of the hidden states."
      ],
      "metadata": {
        "id": "wWQRywRpINf1"
      }
    },
    {
      "cell_type": "code",
      "source": [
        "def b_matrix_to_features(hmm_models, max_feature_length):\n",
        "  hmm2vec_features = []\n",
        "  for model in hmm_models:\n",
        "    #determine the hidden state that has the highest probability with respect to the mov opcode\n",
        "    mov_index = np.argmax(model.emissionprob_[:, opcode_to_number['mov']])\n",
        "\n",
        "    #deem this to be the first half of the HMM2Vec feature vector, with the other row of the B matrix being the second half of the vector\n",
        "    sorted_indices = [mov_index, 1 - mov_index]\n",
        "    sorted_bmatrices = model.emissionprob_[sorted_indices]\n",
        "\n",
        "    # Flatten the rearranged B matrix to create HMM2Vec feature vector\n",
        "    feature_vector = sorted_bmatrices.flatten()\n",
        "\n",
        "    # pad or truncate feature_vector to ensure consistent length\n",
        "    if len(feature_vector) < max_feature_length:\n",
        "      feature_vector = np.pad(feature_vector, (0, max_feature_length - len(feature_vector)), mode='constant')\n",
        "    elif len(feature_vector) > max_feature_length:\n",
        "      feature_vector = feature_vector[:max_feature_length]\n",
        "\n",
        "    hmm2vec_features.append(feature_vector)\n",
        "\n",
        "  return hmm2vec_features\n",
        ""
      ],
      "metadata": {
        "colab": {
          "base_uri": "https://localhost:8080/"
        },
        "id": "3phdOoA3yB-m",
        "outputId": "0f6fe53b-7cba-4f6b-cd35-88ffc86e244b"
      },
      "execution_count": 7,
      "outputs": [
        {
          "output_type": "stream",
          "name": "stdout",
          "text": [
            "time: 15 ms (started: 2024-07-10 12:24:41 -07:00)\n"
          ]
        }
      ]
    },
    {
      "cell_type": "markdown",
      "source": [
        "## Main"
      ],
      "metadata": {
        "id": "N9druG5yuW0P"
      }
    },
    {
      "cell_type": "code",
      "source": [
        "#number of malware families? - we have 4 but for some reason both papers use 2?\n",
        "n_states = 2\n",
        "\n",
        "#number of unique opcodes - maybe not necessary\n",
        "n_obs = 31\n",
        "\n",
        "#converting opcodes to numbers\n",
        "opcode_sequences = []\n",
        "opcodes_to_numbers(df['Opcodes'])"
      ],
      "metadata": {
        "colab": {
          "base_uri": "https://localhost:8080/"
        },
        "id": "qPZS-BkPhPGW",
        "outputId": "3fe46dce-f65b-49d7-85e8-80746e5efbce"
      },
      "execution_count": 8,
      "outputs": [
        {
          "output_type": "stream",
          "name": "stdout",
          "text": [
            "time: 14 s (started: 2024-07-10 12:24:41 -07:00)\n"
          ]
        }
      ]
    },
    {
      "cell_type": "code",
      "source": [
        "#hmm for each sample (so far categorical worked and multinomial didnt)\n",
        "n_restarts = 100 if len(opcode_sequences[0]) <= 5000 else 50\n",
        "hmm_models = train_hmm_models(opcode_sequences,n_states,n_restarts)\n",
        "\n",
        "#extract feature vectors\n",
        "hmm2vec_features = b_matrix_to_features(hmm_models, 62)"
      ],
      "metadata": {
        "colab": {
          "base_uri": "https://localhost:8080/"
        },
        "outputId": "7cf7f472-0654-40ee-e9f4-2984a6d8d3ca",
        "id": "M_GnXhQRhPGX"
      },
      "execution_count": 9,
      "outputs": [
        {
          "output_type": "stream",
          "name": "stdout",
          "text": [
            "time: 1h 7min 15s (started: 2024-07-10 12:24:55 -07:00)\n"
          ]
        }
      ]
    },
    {
      "cell_type": "code",
      "source": [
        "#save results as pkl\n",
        "import pickle\n",
        "with open('hmm2vec_features.pkl', 'wb') as f:\n",
        "    pickle.dump(hmm2vec_features, f)"
      ],
      "metadata": {
        "id": "iKZIJkR3LRC_",
        "colab": {
          "base_uri": "https://localhost:8080/"
        },
        "outputId": "e8eaac41-bc32-49c7-c205-4cbb30596cbb"
      },
      "execution_count": 10,
      "outputs": [
        {
          "output_type": "stream",
          "name": "stdout",
          "text": [
            "time: 15 ms (started: 2024-07-10 13:32:13 -07:00)\n"
          ]
        }
      ]
    },
    {
      "cell_type": "code",
      "source": [
        "#split data\n",
        "X_train, X_test, y_train, y_test = train_test_split(hmm2vec_features, df['MalwareType'], test_size=0.2, random_state=42)\n",
        "\n",
        "#train SVM\n",
        "svm = SVC(kernel='linear')\n",
        "svm.fit(X_train, y_train)\n",
        "\n",
        "#predict\n",
        "y_pred = svm.predict(X_test)\n",
        "\n",
        "#evaluate\n",
        "accuracy = np.mean(y_pred == y_test)\n",
        "print(\"Accuracy:\", accuracy)\n",
        "\n",
        "#confusion matrix\n",
        "from sklearn.metrics import confusion_matrix\n",
        "cm = confusion_matrix(y_test, y_pred)\n",
        "print(\"Confusion Matrix:\")\n",
        "print(cm)\n"
      ],
      "metadata": {
        "colab": {
          "base_uri": "https://localhost:8080/"
        },
        "id": "ya0w-OphWZO7",
        "outputId": "8ecf19d5-00b5-4667-c32a-44bc9d993664"
      },
      "execution_count": 12,
      "outputs": [
        {
          "output_type": "stream",
          "name": "stdout",
          "text": [
            "Accuracy: 0.735\n",
            "Confusion Matrix:\n",
            "[[29 12  1  4]\n",
            " [ 8 39  3  5]\n",
            " [ 1  2 52  0]\n",
            " [ 9  6  2 27]]\n",
            "time: 62 ms (started: 2024-07-10 13:33:35 -07:00)\n"
          ]
        }
      ]
    }
  ]
}