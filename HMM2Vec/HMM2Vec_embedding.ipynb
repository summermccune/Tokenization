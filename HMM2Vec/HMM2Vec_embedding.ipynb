{
  "nbformat": 4,
  "nbformat_minor": 0,
  "metadata": {
    "colab": {
      "provenance": [],
      "authorship_tag": "ABX9TyNksDXkzUXax9cH9jZg/TPV",
      "include_colab_link": true
    },
    "kernelspec": {
      "name": "python3",
      "display_name": "Python 3"
    },
    "language_info": {
      "name": "python"
    }
  },
  "cells": [
    {
      "cell_type": "markdown",
      "metadata": {
        "id": "view-in-github",
        "colab_type": "text"
      },
      "source": [
        "<a href=\"https://colab.research.google.com/github/summermccune/Tokenization-Testing-for-Malware-Data/blob/main/HMM2Vec/HMM2Vec_embedding.ipynb\" target=\"_parent\"><img src=\"https://colab.research.google.com/assets/colab-badge.svg\" alt=\"Open In Colab\"/></a>"
      ]
    },
    {
      "cell_type": "code",
      "source": [
        "!pip install hmmlearn"
      ],
      "metadata": {
        "id": "OyP5yavhPD5U"
      },
      "execution_count": null,
      "outputs": []
    },
    {
      "cell_type": "code",
      "execution_count": 22,
      "metadata": {
        "id": "2MHOtJcGOa7I"
      },
      "outputs": [],
      "source": [
        "from hmmlearn import hmm\n",
        "import pandas as pd\n",
        "import numpy as np\n",
        "from sklearn.model_selection import train_test_split\n",
        "from sklearn.svm import SVC\n",
        "# from google.colab import drive\n",
        "# drive.mount('/content/drive')"
      ]
    },
    {
      "cell_type": "code",
      "source": [
        "df = pd.read_pickle('UnigramFilteredOpcodes.pkl')\n",
        "opcodes_df = pd.read_csv('MostCommonOpcodes.csv')\n",
        "#split dataset in half\n",
        "df = df.sample(frac=0.5)"
      ],
      "metadata": {
        "id": "41Jl9vKPOz8F"
      },
      "execution_count": 23,
      "outputs": []
    },
    {
      "cell_type": "code",
      "source": [
        "df.head()"
      ],
      "metadata": {
        "colab": {
          "base_uri": "https://localhost:8080/",
          "height": 206
        },
        "id": "dB2-tiDnP75N",
        "outputId": "a74b698b-ada0-4830-c9bf-ea716a7d0b53"
      },
      "execution_count": 24,
      "outputs": [
        {
          "output_type": "execute_result",
          "data": {
            "text/plain": [
              "                                                Opcodes  MalwareType\n",
              "2327  (lret, sub, lret, push, jne, jne, mov, sub, in...            2\n",
              "1187  (mov, inc, and, and, add, in, sub, in, push, p...            1\n",
              "540   (lea, mov, mov, inc, dec, dec, add, inc, add, ...            0\n",
              "3112  (push, mov, mov, mov, mov, mov, pop, ret, push...            3\n",
              "2805  (dec, dec, lret, in, inc, push, cmp, push, mov...            2"
            ],
            "text/html": [
              "<div>\n",
              "<style scoped>\n",
              "    .dataframe tbody tr th:only-of-type {\n",
              "        vertical-align: middle;\n",
              "    }\n",
              "\n",
              "    .dataframe tbody tr th {\n",
              "        vertical-align: top;\n",
              "    }\n",
              "\n",
              "    .dataframe thead th {\n",
              "        text-align: right;\n",
              "    }\n",
              "</style>\n",
              "<table border=\"1\" class=\"dataframe\">\n",
              "  <thead>\n",
              "    <tr style=\"text-align: right;\">\n",
              "      <th></th>\n",
              "      <th>Opcodes</th>\n",
              "      <th>MalwareType</th>\n",
              "    </tr>\n",
              "  </thead>\n",
              "  <tbody>\n",
              "    <tr>\n",
              "      <th>2327</th>\n",
              "      <td>(lret, sub, lret, push, jne, jne, mov, sub, in...</td>\n",
              "      <td>2</td>\n",
              "    </tr>\n",
              "    <tr>\n",
              "      <th>1187</th>\n",
              "      <td>(mov, inc, and, and, add, in, sub, in, push, p...</td>\n",
              "      <td>1</td>\n",
              "    </tr>\n",
              "    <tr>\n",
              "      <th>540</th>\n",
              "      <td>(lea, mov, mov, inc, dec, dec, add, inc, add, ...</td>\n",
              "      <td>0</td>\n",
              "    </tr>\n",
              "    <tr>\n",
              "      <th>3112</th>\n",
              "      <td>(push, mov, mov, mov, mov, mov, pop, ret, push...</td>\n",
              "      <td>3</td>\n",
              "    </tr>\n",
              "    <tr>\n",
              "      <th>2805</th>\n",
              "      <td>(dec, dec, lret, in, inc, push, cmp, push, mov...</td>\n",
              "      <td>2</td>\n",
              "    </tr>\n",
              "  </tbody>\n",
              "</table>\n",
              "</div>"
            ]
          },
          "metadata": {},
          "execution_count": 24
        }
      ]
    },
    {
      "cell_type": "code",
      "source": [
        "#creating a list of number representation for each opcode that is in the dataset\n",
        "opcode_to_number = {}\n",
        "count = 0\n",
        "for opcode in opcodes_df['Opcodes']:\n",
        "    opcode_to_number[opcode] = count\n",
        "    count += 1\n",
        "\n",
        "print(opcode_to_number)"
      ],
      "metadata": {
        "colab": {
          "base_uri": "https://localhost:8080/"
        },
        "id": "Im1VE7DZhV18",
        "outputId": "c2f1f69b-d632-481e-e2a6-4a68204a5226"
      },
      "execution_count": 25,
      "outputs": [
        {
          "output_type": "stream",
          "name": "stdout",
          "text": [
            "{'add': 0, 'mov': 1, 'push': 2, 'pop': 3, 'inc': 4, 'xchg': 5, 'call': 6, 'or': 7, 'dec': 8, 'cmp': 9, 'xor': 10, 'sub': 11, 'and': 12, 'adc': 13, 'sbb': 14, 'lea': 15, 'test': 16, 'out': 17, 'in': 18, 'jmp': 19, 'movl': 20, 'int3': 21, 'ret': 22, 'imul': 23, 'je': 24, 'nop': 25, 'lods': 26, 'stos': 27, 'scas': 28, 'lret': 29, 'jne': 30}\n"
          ]
        }
      ]
    },
    {
      "cell_type": "code",
      "source": [
        "def opcodes_to_numbers(columns):\n",
        "  for sample in columns:\n",
        "    # length = len(sample)\n",
        "    # sequence_lengths.append(length)\n",
        "    temp = []\n",
        "    for opcode in sample:\n",
        "      temp.append(opcode_to_number[opcode])\n",
        "    opcode_sequences.append(temp)"
      ],
      "metadata": {
        "id": "NTFi3JrYmClW"
      },
      "execution_count": 26,
      "outputs": []
    },
    {
      "cell_type": "code",
      "source": [
        "#number of malware families\n",
        "n_states = 4\n",
        "#number of unique opcodes\n",
        "n_obs = 31"
      ],
      "metadata": {
        "id": "UcltOrisUROL"
      },
      "execution_count": 27,
      "outputs": []
    },
    {
      "cell_type": "code",
      "source": [
        "opcode_sequences = []\n",
        "opcodes_to_numbers(df['Opcodes'])"
      ],
      "metadata": {
        "id": "6GuBiXc7WGsR"
      },
      "execution_count": 28,
      "outputs": []
    },
    {
      "cell_type": "code",
      "source": [
        "#hmm for each sample\n",
        "hmm_models = []\n",
        "for opcode_seq in opcode_sequences:\n",
        "  model = hmm.CategoricalHMM(n_components=n_states, n_iter=100)\n",
        "  opcode_seq = np.array(opcode_seq)\n",
        "  model.fit(opcode_seq.reshape(-1, 1))\n",
        "  hmm_models.append(model)"
      ],
      "metadata": {
        "collapsed": true,
        "id": "dTxz3Gt4Xtyz"
      },
      "execution_count": null,
      "outputs": []
    },
    {
      "cell_type": "code",
      "source": [
        "# Extract emission probabilities (B matrices)\n",
        "B_matrices = [model.emissionprob_ for model in hmm_models]\n",
        "\n",
        "# Vectorize B matrices\n",
        "feature_vectors = []\n",
        "for b_matrix in B_matrices:\n",
        "  b_matrix = b_matrix.flatten()\n",
        "  feature_vectors.append(b_matrix)"
      ],
      "metadata": {
        "id": "wGBLlTMOYGKs"
      },
      "execution_count": null,
      "outputs": []
    },
    {
      "cell_type": "code",
      "source": [
        "print(B_matrices)"
      ],
      "metadata": {
        "id": "MFAm3liSY7fC"
      },
      "execution_count": null,
      "outputs": []
    },
    {
      "cell_type": "code",
      "source": [
        "#save results\n",
        "np.save('half_HMM2Vec_embeddings.npy', feature_vectors)"
      ],
      "metadata": {
        "id": "iKZIJkR3LRC_"
      },
      "execution_count": null,
      "outputs": []
    },
    {
      "cell_type": "code",
      "source": [
        "from sklearn.model_selection import train_test_split\n",
        "from sklearn.svm import SVC"
      ],
      "metadata": {
        "id": "QhRerhRnWkUD"
      },
      "execution_count": null,
      "outputs": []
    },
    {
      "cell_type": "code",
      "source": [
        "#split data\n",
        "X_train, X_test, y_train, y_test = train_test_split(feature_vectors, df['MalwareType'], test_size=0.2, random_state=42)\n",
        "\n",
        "#train SVM\n",
        "svm = SVC(kernel='linear')\n",
        "svm.fit(X_train, y_train)\n",
        "\n",
        "#predict\n",
        "y_pred = svm.predict(X_test)\n",
        "\n",
        "#evaluate\n",
        "accuracy = np.mean(y_pred == y_test)\n",
        "print(\"Accuracy:\", accuracy)\n",
        "\n",
        "#confusion matrix\n",
        "from sklearn.metrics import confusion_matrix\n",
        "cm = confusion_matrix(y_test, y_pred)\n",
        "print(\"Confusion Matrix:\")\n",
        "print(cm)\n"
      ],
      "metadata": {
        "id": "ya0w-OphWZO7"
      },
      "execution_count": null,
      "outputs": []
    }
  ]
}