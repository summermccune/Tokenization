{
  "nbformat": 4,
  "nbformat_minor": 0,
  "metadata": {
    "colab": {
      "provenance": [],
      "authorship_tag": "ABX9TyMgUcLWYfqvUP7w1zyiOMFF",
      "include_colab_link": true
    },
    "kernelspec": {
      "name": "python3",
      "display_name": "Python 3"
    },
    "language_info": {
      "name": "python"
    }
  },
  "cells": [
    {
      "cell_type": "markdown",
      "metadata": {
        "id": "view-in-github",
        "colab_type": "text"
      },
      "source": [
        "<a href=\"https://colab.research.google.com/github/summermccune/Tokenization-Testing-for-Malware-Data/blob/main/HMM2Vec/HMM2Vec.ipynb\" target=\"_parent\"><img src=\"https://colab.research.google.com/assets/colab-badge.svg\" alt=\"Open In Colab\"/></a>"
      ]
    },
    {
      "cell_type": "code",
      "source": [
        "!pip install hmmlearn"
      ],
      "metadata": {
        "colab": {
          "base_uri": "https://localhost:8080/"
        },
        "id": "OyP5yavhPD5U",
        "outputId": "7a9bcb24-6712-4b25-b903-547d7d635925"
      },
      "execution_count": 1,
      "outputs": [
        {
          "output_type": "stream",
          "name": "stdout",
          "text": [
            "Defaulting to user installation because normal site-packages is not writeable\n",
            "Collecting hmmlearn\n",
            "  Downloading hmmlearn-0.3.2-cp312-cp312-win_amd64.whl.metadata (3.0 kB)\n",
            "Requirement already satisfied: numpy>=1.10 in c:\\users\\summe\\appdata\\local\\packages\\pythonsoftwarefoundation.python.3.12_qbz5n2kfra8p0\\localcache\\local-packages\\python312\\site-packages (from hmmlearn) (1.26.4)\n",
            "Requirement already satisfied: scikit-learn!=0.22.0,>=0.16 in c:\\users\\summe\\appdata\\local\\packages\\pythonsoftwarefoundation.python.3.12_qbz5n2kfra8p0\\localcache\\local-packages\\python312\\site-packages (from hmmlearn) (1.5.0)\n",
            "Requirement already satisfied: scipy>=0.19 in c:\\users\\summe\\appdata\\local\\packages\\pythonsoftwarefoundation.python.3.12_qbz5n2kfra8p0\\localcache\\local-packages\\python312\\site-packages (from hmmlearn) (1.12.0)\n",
            "Requirement already satisfied: joblib>=1.2.0 in c:\\users\\summe\\appdata\\local\\packages\\pythonsoftwarefoundation.python.3.12_qbz5n2kfra8p0\\localcache\\local-packages\\python312\\site-packages (from scikit-learn!=0.22.0,>=0.16->hmmlearn) (1.4.2)\n",
            "Requirement already satisfied: threadpoolctl>=3.1.0 in c:\\users\\summe\\appdata\\local\\packages\\pythonsoftwarefoundation.python.3.12_qbz5n2kfra8p0\\localcache\\local-packages\\python312\\site-packages (from scikit-learn!=0.22.0,>=0.16->hmmlearn) (3.5.0)\n",
            "Downloading hmmlearn-0.3.2-cp312-cp312-win_amd64.whl (124 kB)\n",
            "   ---------------------------------------- 0.0/124.7 kB ? eta -:--:--\n",
            "   ---------------------------------------- 124.7/124.7 kB 3.6 MB/s eta 0:00:00\n",
            "Installing collected packages: hmmlearn\n",
            "Successfully installed hmmlearn-0.3.2\n"
          ]
        }
      ]
    },
    {
      "cell_type": "code",
      "execution_count": 2,
      "metadata": {
        "id": "2MHOtJcGOa7I"
      },
      "outputs": [],
      "source": [
        "from hmmlearn import hmm\n",
        "import pandas as pd\n",
        "import numpy as np\n",
        "# from google.colab import drive\n",
        "# drive.mount('/content/drive')"
      ]
    },
    {
      "cell_type": "code",
      "source": [
        "df = pd.read_pickle('UnigramFilteredOpcodes.pkl')"
      ],
      "metadata": {
        "id": "41Jl9vKPOz8F"
      },
      "execution_count": 3,
      "outputs": []
    },
    {
      "cell_type": "code",
      "source": [
        "df.head()"
      ],
      "metadata": {
        "colab": {
          "base_uri": "https://localhost:8080/",
          "height": 206
        },
        "id": "dB2-tiDnP75N",
        "outputId": "79947d8f-4e76-474e-c42c-15f7f738494f"
      },
      "execution_count": 4,
      "outputs": [
        {
          "output_type": "execute_result",
          "data": {
            "text/plain": [
              "                                             Opcodes  MalwareType\n",
              "0  (add, je, je, push, push, add, add, call, add,...            0\n",
              "1  (push, mov, push, push, mov, xor, push, mov, c...            0\n",
              "2  (call, mov, pop, pop, pop, ret, int3, int3, in...            0\n",
              "3  (add, in, add, push, call, pop, ret, int3, int...            0\n",
              "4  (mov, push, push, push, mov, mov, mov, and, cm...            0"
            ],
            "text/html": [
              "<div>\n",
              "<style scoped>\n",
              "    .dataframe tbody tr th:only-of-type {\n",
              "        vertical-align: middle;\n",
              "    }\n",
              "\n",
              "    .dataframe tbody tr th {\n",
              "        vertical-align: top;\n",
              "    }\n",
              "\n",
              "    .dataframe thead th {\n",
              "        text-align: right;\n",
              "    }\n",
              "</style>\n",
              "<table border=\"1\" class=\"dataframe\">\n",
              "  <thead>\n",
              "    <tr style=\"text-align: right;\">\n",
              "      <th></th>\n",
              "      <th>Opcodes</th>\n",
              "      <th>MalwareType</th>\n",
              "    </tr>\n",
              "  </thead>\n",
              "  <tbody>\n",
              "    <tr>\n",
              "      <th>0</th>\n",
              "      <td>(add, je, je, push, push, add, add, call, add,...</td>\n",
              "      <td>0</td>\n",
              "    </tr>\n",
              "    <tr>\n",
              "      <th>1</th>\n",
              "      <td>(push, mov, push, push, mov, xor, push, mov, c...</td>\n",
              "      <td>0</td>\n",
              "    </tr>\n",
              "    <tr>\n",
              "      <th>2</th>\n",
              "      <td>(call, mov, pop, pop, pop, ret, int3, int3, in...</td>\n",
              "      <td>0</td>\n",
              "    </tr>\n",
              "    <tr>\n",
              "      <th>3</th>\n",
              "      <td>(add, in, add, push, call, pop, ret, int3, int...</td>\n",
              "      <td>0</td>\n",
              "    </tr>\n",
              "    <tr>\n",
              "      <th>4</th>\n",
              "      <td>(mov, push, push, push, mov, mov, mov, and, cm...</td>\n",
              "      <td>0</td>\n",
              "    </tr>\n",
              "  </tbody>\n",
              "</table>\n",
              "</div>"
            ]
          },
          "metadata": {},
          "execution_count": 4
        }
      ]
    },
    {
      "cell_type": "code",
      "source": [
        "states = [0, 1, 2]\n",
        "n_states = len(states)\n",
        "observations = df['Opcodes'].unique()\n",
        "n_obs = len(observations)"
      ],
      "metadata": {
        "id": "UcltOrisUROL"
      },
      "execution_count": null,
      "outputs": []
    },
    {
      "cell_type": "code",
      "source": [
        "#need to tune these parameters I think\n",
        "state_probability = np.ones(n_states) / n_states\n",
        "transition_probability = np.full((n_states, n_states), 1 / n_states)\n",
        "emission_probability = np.full((n_states, n_obs), 1 / n_obs)"
      ],
      "metadata": {
        "id": "XHIa7GQuV-Nv"
      },
      "execution_count": null,
      "outputs": []
    },
    {
      "cell_type": "code",
      "source": [
        "model = hmm.MultinomialHMM(n_components=n_states)\n",
        "model.startprob_ = state_probability\n",
        "model.transmat_ = transition_probability\n",
        "model.emissionprob_ = emission_probability"
      ],
      "metadata": {
        "id": "abYhPZtoWnpV"
      },
      "execution_count": null,
      "outputs": []
    },
    {
      "cell_type": "code",
      "source": [
        "model.fit(observations)\n",
        "model.predict(observations)"
      ],
      "metadata": {
        "id": "TYxIVMeBYNbg"
      },
      "execution_count": null,
      "outputs": []
    }
  ]
}